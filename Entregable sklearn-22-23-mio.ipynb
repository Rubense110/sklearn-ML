{
 "cells": [
  {
   "cell_type": "markdown",
   "metadata": {},
   "source": [
    "## Primer entregable. Ampliación de Inteligencia Artificial - Curso 22-23"
   ]
  },
  {
   "cell_type": "markdown",
   "metadata": {},
   "source": [
    "## Ejercicio scikit learn"
   ]
  },
  {
   "attachments": {},
   "cell_type": "markdown",
   "metadata": {},
   "source": [
    "###  Nombre: Rubén Jiménez Jiménez (rubjimjim)"
   ]
  },
  {
   "cell_type": "markdown",
   "metadata": {},
   "source": [
    "### Plazo de entrega: 17 de abril (0.75 puntos de la nota total)"
   ]
  },
  {
   "cell_type": "markdown",
   "metadata": {},
   "source": [
    "### HONESTIDAD ACADÉMICA Y COPIAS: \n",
    "\n",
    "La realización de los ejercicios es un trabajo personal, por lo que deben completarse por cada estudiante de manera individual.  \n",
    "\n",
    "Cualquier plagio o compartición de código que se detecte significará automáticamente la calificación de **CERO EN LA ASIGNATURA** para **TODOS** los alumnos involucrados. Por tanto a estos alumnos NO se les conservará, para futuras convocatorias, ninguna nota que hubiesen obtenido hasta el momento. Independientemente de **OTRAS ACCIONES DE CARÁCTER DISCIPLINARIO** que se pudieran tomar."
   ]
  },
  {
   "cell_type": "markdown",
   "metadata": {},
   "source": [
    "****"
   ]
  },
  {
   "cell_type": "markdown",
   "metadata": {},
   "source": [
    "### IMPORTANTE: Comentar y explicar adecuadamente cada paso realizado.\n",
    "\n",
    "#### En este ejercicio, <u>es muy importante el comentar adecuadamente cada paso</u> dado. Los comentarios, que han de ser originales, deberán explicar  todo lo realizado, de manera que se demuestre que se conocen y manejan adecuadamente los conceptos y las herramientas que se usan. Estas explicaciones y comentarios serán parte muy importante de la nota."
   ]
  },
  {
   "cell_type": "markdown",
   "metadata": {},
   "source": [
    "****"
   ]
  },
  {
   "cell_type": "markdown",
   "metadata": {},
   "source": [
    "# ENUNCIADO"
   ]
  },
  {
   "cell_type": "markdown",
   "metadata": {},
   "source": [
    "Se pide aplicar modelos de _**random forest**_ o de _**máquinas de vectores soporte**_ (SVM) a dos conjuntos de datos que ya hemos visto en clase. Estos datos son:\n",
    "* Imágenes de dígitos manuscritos\n",
    "* Críticas de películas en IMDB"
   ]
  },
  {
   "cell_type": "markdown",
   "metadata": {},
   "source": [
    "**Con el estudio de estos dos conjuntos de datos, y con UNO de los modelos anteriores (random forest o SVM) en principio es posible obtener la máxima puntuación del ejercicio.**\n",
    "\n",
    "Sin embargo, **opcionalmente** se pueden aplicar los dos modelos (random forest y SVM) y sustituir uno de los *datasets* por un tercer conjunto de datos de libre elección (aunque daremos un par de sugerencias más adelante). "
   ]
  },
  {
   "cell_type": "markdown",
   "metadata": {},
   "source": [
    "En general, estas son algunas de las técnicas que se podrían aplicar en el estudio de cada caso: "
   ]
  },
  {
   "attachments": {},
   "cell_type": "markdown",
   "metadata": {},
   "source": [
    "* Exploración preliminar del conjunto de datos\n",
    "* Visualización de algunas características \n",
    "* Uso de clasificadores (o de modelos de regresión), en su caso\n",
    "* Separación de ejemplos para test\n",
    "* Métricas\n",
    "* Validación cruzada\n",
    "* Ajuste de parámetros con `GridSearchCV`\n",
    "* Mostrar la predicción sobre ejemplos individuales"
   ]
  },
  {
   "attachments": {},
   "cell_type": "markdown",
   "metadata": {},
   "source": [
    "Las clases de Scikit Learn que implementan los respectivos modelos son:\n",
    "\n",
    "* `RandomForestClassifier` del módulo `ensemble`, para *random forests*. \n",
    "* `SVC` del módulo `svm`, para *máquinas de vectores soporte*"
   ]
  },
  {
   "cell_type": "markdown",
   "metadata": {},
   "source": [
    "Ambos modelos están explicados en las diapositivas y en los correspondientes vídeos del tema de Complementos de Aprendizaje Automático"
   ]
  },
  {
   "cell_type": "markdown",
   "metadata": {},
   "source": [
    "**Se pide explicar, usando los dos conjuntos de datos anteriores, uno de estos modelos, y los principales argumentos y parámetros de las correspondientes clases. Los comentarios deben reflejar que se ha comprendido el modelo, su aprendizaje y la manera en la que clasifica nuevas instancias.** "
   ]
  },
  {
   "cell_type": "markdown",
   "metadata": {},
   "source": [
    "*****"
   ]
  },
  {
   "cell_type": "markdown",
   "metadata": {},
   "source": [
    "Pasamos ahora a describir los conjuntos de datos. Estos datos ya se han usado en alguna práctica de clase, pero volvemos a presentarlos. "
   ]
  },
  {
   "cell_type": "markdown",
   "metadata": {},
   "source": [
    "## 1. Imágenes de dígitos escritos a mano"
   ]
  },
  {
   "cell_type": "markdown",
   "metadata": {},
   "source": [
    "El conjunto de datos de dígitos escritos a mano se puede cargar en sklearn directamente (consultar los detalles en el manual):"
   ]
  },
  {
   "cell_type": "code",
   "execution_count": 87,
   "metadata": {},
   "outputs": [],
   "source": [
    "from sklearn.datasets import load_digits\n",
    "digitos = load_digits()"
   ]
  },
  {
   "cell_type": "markdown",
   "metadata": {},
   "source": [
    "Podemos incluso visualizar cada dígito del conjunto de datos, y su clase:"
   ]
  },
  {
   "cell_type": "code",
   "execution_count": 88,
   "metadata": {},
   "outputs": [
    {
     "data": {
      "text/plain": [
       "<Figure size 640x480 with 0 Axes>"
      ]
     },
     "metadata": {},
     "output_type": "display_data"
    },
    {
     "data": {
      "image/png": "[encoded data removed]",
      "text/plain": [
       "<Figure size 480x480 with 1 Axes>"
      ]
     },
     "metadata": {},
     "output_type": "display_data"
    },
    {
     "name": "stdout",
     "output_type": "stream",
     "text": [
      "Clase de la imagen: 6\n"
     ]
    }
   ],
   "source": [
    "import matplotlib.pyplot as plt\n",
    "plt.gray()\n",
    "plt.matshow(digitos.images[234]) \n",
    "plt.show() \n",
    "print(\"Clase de la imagen: {}\".format(digitos.target[234]))"
   ]
  },
  {
   "attachments": {},
   "cell_type": "markdown",
   "metadata": {},
   "source": [
    "Este conjunto de datos se puede usar de dos formas:\n",
    "\n",
    "* Aprender un clasificador multiclase\n",
    "* Observando la matriz de confusión del clasificador multiclase, elegir un par de dígitos que puedan tener algunas predicciones intercambiadas y aprender un clasificador binario para ese problema (el de distinguir entre esos dos dígitos).\n",
    "\n",
    "Con los modelos finalmente aprendidos, mostrar con las imágenes del dígito, algún ejemplo que se clasifique bien y alguno que se clasifique mal. "
   ]
  },
  {
   "attachments": {},
   "cell_type": "markdown",
   "metadata": {},
   "source": [
    "### Exploración preliminar"
   ]
  },
  {
   "attachments": {},
   "cell_type": "markdown",
   "metadata": {},
   "source": [
    "* Descripción breve del conjunto de datos : "
   ]
  },
  {
   "cell_type": "code",
   "execution_count": 89,
   "metadata": {},
   "outputs": [
    {
     "data": {
      "text/plain": [
       "\".. _digits_dataset:\\n\\nOptical recognition of handwritten digits dataset\\n--------------------------------------------------\\n\\n**Data Set Characteristics:**\\n\\n    :Number of Instances: 1797\\n    :Number of Attributes: 64\\n    :Attribute Information: 8x8 image of integer pixels in the range 0..16.\\n    :Missing Attribute Values: None\\n    :Creator: E. Alpaydin (alpaydin '@' boun.edu.tr)\\n    :Date: July; 1998\\n\\nThis is a copy of the test set of the UCI ML hand-written digits datasets\\nhttps://archive.ics.uci.edu/ml/datasets/Optical+Recognition+of+Handwritten+Digits\\n\\nThe data set contains images of hand-written digits: 10 classes where\\neach class refers to a digit.\\n\\nPreprocessing programs made available by NIST were used to extract\\nnormalized bitmaps of handwritten digits from a preprinted form. From a\\ntotal of 43 people, 30 contributed to the training set and different 13\\nto the test set. 32x32 bitmaps are divided into nonoverlapping blocks of\\n4x4 and the number of on pixels are counted in each block. This generates\\nan input matrix of 8x8 where each element is an integer in the range\\n0..16. This reduces dimensionality and gives invariance to small\\ndistortions.\\n\\nFor info on NIST preprocessing routines, see M. D. Garris, J. L. Blue, G.\\nT. Candela, D. L. Dimmick, J. Geist, P. J. Grother, S. A. Janet, and C.\\nL. Wilson, NIST Form-Based Handprint Recognition System, NISTIR 5469,\\n1994.\\n\\n.. topic:: References\\n\\n  - C. Kaynak (1995) Methods of Combining Multiple Classifiers and Their\\n    Applications to Handwritten Digit Recognition, MSc Thesis, Institute of\\n    Graduate Studies in Science and Engineering, Bogazici University.\\n  - E. Alpaydin, C. Kaynak (1998) Cascading Classifiers, Kybernetika.\\n  - Ken Tang and Ponnuthurai N. Suganthan and Xi Yao and A. Kai Qin.\\n    Linear dimensionalityreduction using relevance weighted LDA. School of\\n    Electrical and Electronic Engineering Nanyang Technological University.\\n    2005.\\n  - Claudio Gentile. A New Approximate Maximal Margin Classification\\n    Algorithm. NIPS. 2000.\\n\""
      ]
     },
     "execution_count": 89,
     "metadata": {},
     "output_type": "execute_result"
    }
   ],
   "source": [
    "digitos.DESCR"
   ]
  },
  {
   "attachments": {},
   "cell_type": "markdown",
   "metadata": {},
   "source": [
    "* Mostramos el número de ejemplos contenidos en el dataset, así como sus posibles clases y características\n",
    "\n",
    "    * Cada caracteristica representa el nivel de gris del pixel correspondiente en la imagen, de 0 a 16\n",
    "    * Tenemos 1797 ejemplos en el dataset, con 64 caracteristicas cada uno (imagenes 8x8)\n",
    "    * Existen 10 valores de clasificación, del 0 al 9 ambos inclusive\n",
    "    "
   ]
  },
  {
   "cell_type": "code",
   "execution_count": 90,
   "metadata": {},
   "outputs": [
    {
     "name": "stdout",
     "output_type": "stream",
     "text": [
      "Número de filas y columnas del conjunto de datos: (num de ejemplos y de cols) (1797, 64)\n",
      "\n",
      "Nombre de cada valor de clasificación (variable target): [0 1 2 3 4 5 6 7 8 9]\n",
      "\n",
      "Identificacion de las características:\n",
      " ['pixel_0_0', 'pixel_0_1', 'pixel_0_2', 'pixel_0_3', 'pixel_0_4', 'pixel_0_5', 'pixel_0_6', 'pixel_0_7', 'pixel_1_0', 'pixel_1_1', 'pixel_1_2', 'pixel_1_3', 'pixel_1_4', 'pixel_1_5', 'pixel_1_6', 'pixel_1_7', 'pixel_2_0', 'pixel_2_1', 'pixel_2_2', 'pixel_2_3', 'pixel_2_4', 'pixel_2_5', 'pixel_2_6', 'pixel_2_7', 'pixel_3_0', 'pixel_3_1', 'pixel_3_2', 'pixel_3_3', 'pixel_3_4', 'pixel_3_5', 'pixel_3_6', 'pixel_3_7', 'pixel_4_0', 'pixel_4_1', 'pixel_4_2', 'pixel_4_3', 'pixel_4_4', 'pixel_4_5', 'pixel_4_6', 'pixel_4_7', 'pixel_5_0', 'pixel_5_1', 'pixel_5_2', 'pixel_5_3', 'pixel_5_4', 'pixel_5_5', 'pixel_5_6', 'pixel_5_7', 'pixel_6_0', 'pixel_6_1', 'pixel_6_2', 'pixel_6_3', 'pixel_6_4', 'pixel_6_5', 'pixel_6_6', 'pixel_6_7', 'pixel_7_0', 'pixel_7_1', 'pixel_7_2', 'pixel_7_3', 'pixel_7_4', 'pixel_7_5', 'pixel_7_6', 'pixel_7_7']\n",
      "\n",
      "Array con los valores de clasificacion de cada instancia:  [0 1 2 ... 8 9 8]\n"
     ]
    }
   ],
   "source": [
    "\n",
    "print(\"Número de filas y columnas del conjunto de datos: (num de ejemplos y de cols)\", digitos.data.shape)\n",
    "print(\"\\nNombre de cada valor de clasificación (variable target):\",digitos.target_names )\n",
    "print(\"\\nIdentificacion de las características:\\n\",digitos.feature_names)\n",
    "print(\"\\nArray con los valores de clasificacion de cada instancia: \", digitos.target)"
   ]
  },
  {
   "attachments": {},
   "cell_type": "markdown",
   "metadata": {},
   "source": [
    "* Podemos observar las imagenes de la siguiente forma, aunque vendran dados como matrices con cada valor siendo un píxel como vimos antes"
   ]
  },
  {
   "cell_type": "code",
   "execution_count": 91,
   "metadata": {},
   "outputs": [
    {
     "data": {
      "text/plain": [
       "array([[[ 0.,  0.,  5., ...,  1.,  0.,  0.],\n",
       "        [ 0.,  0., 13., ..., 15.,  5.,  0.],\n",
       "        [ 0.,  3., 15., ..., 11.,  8.,  0.],\n",
       "        ...,\n",
       "        [ 0.,  4., 11., ..., 12.,  7.,  0.],\n",
       "        [ 0.,  2., 14., ..., 12.,  0.,  0.],\n",
       "        [ 0.,  0.,  6., ...,  0.,  0.,  0.]],\n",
       "\n",
       "       [[ 0.,  0.,  0., ...,  5.,  0.,  0.],\n",
       "        [ 0.,  0.,  0., ...,  9.,  0.,  0.],\n",
       "        [ 0.,  0.,  3., ...,  6.,  0.,  0.],\n",
       "        ...,\n",
       "        [ 0.,  0.,  1., ...,  6.,  0.,  0.],\n",
       "        [ 0.,  0.,  1., ...,  6.,  0.,  0.],\n",
       "        [ 0.,  0.,  0., ..., 10.,  0.,  0.]],\n",
       "\n",
       "       [[ 0.,  0.,  0., ..., 12.,  0.,  0.],\n",
       "        [ 0.,  0.,  3., ..., 14.,  0.,  0.],\n",
       "        [ 0.,  0.,  8., ..., 16.,  0.,  0.],\n",
       "        ...,\n",
       "        [ 0.,  9., 16., ...,  0.,  0.,  0.],\n",
       "        [ 0.,  3., 13., ..., 11.,  5.,  0.],\n",
       "        [ 0.,  0.,  0., ..., 16.,  9.,  0.]],\n",
       "\n",
       "       ...,\n",
       "\n",
       "       [[ 0.,  0.,  1., ...,  1.,  0.,  0.],\n",
       "        [ 0.,  0., 13., ...,  2.,  1.,  0.],\n",
       "        [ 0.,  0., 16., ..., 16.,  5.,  0.],\n",
       "        ...,\n",
       "        [ 0.,  0., 16., ..., 15.,  0.,  0.],\n",
       "        [ 0.,  0., 15., ..., 16.,  0.,  0.],\n",
       "        [ 0.,  0.,  2., ...,  6.,  0.,  0.]],\n",
       "\n",
       "       [[ 0.,  0.,  2., ...,  0.,  0.,  0.],\n",
       "        [ 0.,  0., 14., ..., 15.,  1.,  0.],\n",
       "        [ 0.,  4., 16., ..., 16.,  7.,  0.],\n",
       "        ...,\n",
       "        [ 0.,  0.,  0., ..., 16.,  2.,  0.],\n",
       "        [ 0.,  0.,  4., ..., 16.,  2.,  0.],\n",
       "        [ 0.,  0.,  5., ..., 12.,  0.,  0.]],\n",
       "\n",
       "       [[ 0.,  0., 10., ...,  1.,  0.,  0.],\n",
       "        [ 0.,  2., 16., ...,  1.,  0.,  0.],\n",
       "        [ 0.,  0., 15., ..., 15.,  0.,  0.],\n",
       "        ...,\n",
       "        [ 0.,  4., 16., ..., 16.,  6.,  0.],\n",
       "        [ 0.,  8., 16., ..., 16.,  8.,  0.],\n",
       "        [ 0.,  1.,  8., ..., 12.,  1.,  0.]]])"
      ]
     },
     "execution_count": 91,
     "metadata": {},
     "output_type": "execute_result"
    }
   ],
   "source": [
    "digitos.images"
   ]
  },
  {
   "attachments": {},
   "cell_type": "markdown",
   "metadata": {},
   "source": [
    "* Claramente así vemos poco, podemos utilizar matplotlib para mostrar algunos dígitos y ver como son realmente junto con su valor de clasificación real\n"
   ]
  },
  {
   "cell_type": "code",
   "execution_count": 92,
   "metadata": {},
   "outputs": [
    {
     "data": {
      "text/plain": [
       "<Figure size 640x480 with 0 Axes>"
      ]
     },
     "metadata": {},
     "output_type": "display_data"
    },
    {
     "data": {
      "image/png": "[encoded data removed]",
      "text/plain": [
       "<Figure size 1000x500 with 10 Axes>"
      ]
     },
     "metadata": {},
     "output_type": "display_data"
    }
   ],
   "source": [
    "import matplotlib.pyplot as plt\n",
    "\n",
    "plt.gray()\n",
    "\n",
    "# Creamos un grid, o malla, de tamaño 2x5 con el que mostraremos un ejemplo de cada uno de los dígitos (0 a 9)\n",
    "fig, axes = plt.subplots(nrows=2, ncols=5, figsize=(10, 5))\n",
    "# axes es una lista con cada \"elemento\" ax de la malla 2x5, en cada uno de ellos mostramos un dígito\n",
    "\n",
    "# realmente no hacemos nada particular para que salga un ejemplo de cada dígito, los primeros ejemplos del\n",
    "# dataset ya vienen ordenados, y como tenemos 10 \"elementos\" en la malla podemos aprovechar esto para mostrar los 10 casos\n",
    "# posibles de clasificacion \n",
    "\n",
    "# se puede ampliar la malla para ver mas ejemplos\n",
    "\n",
    "for ax, digito, clasificacion in zip(axes.flat, digitos.images, digitos.target):\n",
    "\n",
    "    # Mostramos cada imagen, con el parámetro cmap ajustamos los colores, lo ponemos en escala de grises pues por defecto está al revés\n",
    "    ax.imshow(digito, cmap=plt.cm.gray_r)\n",
    "    ax.set_title('Digit: {}'.format(clasificacion))\n",
    "\n",
    "    # Como solo queremos ver las imagenes, los marcadores de los ejes nos dan igual (ya sabemos que son 8x8) así que los quitamos\n",
    "    # para no saturar y dejar el resultado más elegante\n",
    "    ax.set_xticks([])\n",
    "    ax.set_yticks([])\n",
    "\n",
    "# tighy_layout() es completamente opcional y sólo está para que las imágenes no se tapen unas a otras en caso de ampliar la malla\n",
    "plt.tight_layout()\n",
    "plt.show()"
   ]
  },
  {
   "attachments": {},
   "cell_type": "markdown",
   "metadata": {},
   "source": [
    "* Aquí ya podemos ver que probablemente haya problemas al clasificar, por ejemplo, el 9 y el 5 se parecen bastante, al igual que el 2 y el 8, mientras que otros como el 1 y el 0 son claramente distinguibles, más adelante veremos como abordar estos problemas."
   ]
  },
  {
   "attachments": {},
   "cell_type": "markdown",
   "metadata": {},
   "source": [
    "* A continuación haremos una visualización gráfica del conjunto de datos, para ello cargaremos los datos en las variables **X_digitos** e **y_digitos**"
   ]
  },
  {
   "cell_type": "code",
   "execution_count": 93,
   "metadata": {},
   "outputs": [],
   "source": [
    "X_digitos,y_digitos = digitos.data,digitos.target"
   ]
  },
  {
   "attachments": {},
   "cell_type": "markdown",
   "metadata": {},
   "source": [
    "### Visualizacion de Características\n",
    "\n",
    "* En clase vimos varios ejemplos de como utilizar matplotlib para visualizar las características de un dataset, por ejemplo, con el conjunto de datos **Iris** hicimos representaciones 2D en forma de nubes de puntos con 2 de sus características.\n",
    "\n",
    "* Sin embargo algo como eso es de escasa utilidad aquí, teniendo digits **64 características** (píxeles) en lugar de las 4 que tiene el dataset Iris, comparar dos de ellas con una nube de puntos nos proporcionaría una visión muy limitada que nos ayudaría de poco"
   ]
  },
  {
   "attachments": {},
   "cell_type": "markdown",
   "metadata": {},
   "source": [
    "Para afrontar este problema una solución es realizar una **reducción de dimensionalidad**, lo que nos permite obtener los datos en espacio de menor dimensión y, por ejemplo, visualizarlos en un gráfico de dispersión como hicimos en clase.\n",
    "\n",
    "* Una técnica muy utilizada para estos casos es el **Análisis de Componentes Principales** (**PCA**), nos permite retener la mayor cantidad de información posible mientras realizamos dicha reducción de dimensionalidad\n"
   ]
  },
  {
   "attachments": {},
   "cell_type": "markdown",
   "metadata": {},
   "source": [
    "A la hora de utilizar `PCA` podemos importarlo directamente de `sklearn.decomposition`\n",
    "\n",
    "Crearemos el objeto `PCA`, para nuestro caso con 2 componentes principales para poder graficarlo, ahora tal y como vimos en clase ajustaremos el modelo a nuestros datos con el método `fit`, y haremos la representación de los datos originales en el nuevo espacio 2-dimensional con `transform` \n",
    "* En este caso no será necesario usar normalizadores como `StandardScaler` pues las características comparten la misma escala, por lo que no tendría sentido utilizarlo"
   ]
  },
  {
   "cell_type": "code",
   "execution_count": 94,
   "metadata": {},
   "outputs": [
    {
     "data": {
      "image/png": "[encoded data removed]",
      "text/plain": [
       "<Figure size 640x480 with 2 Axes>"
      ]
     },
     "metadata": {},
     "output_type": "display_data"
    }
   ],
   "source": [
    "from sklearn.decomposition import PCA\n",
    "\n",
    "pca = PCA(n_components=2)\n",
    "\n",
    "# Podemos hacer fit y transform a la vez de esta forma\n",
    "pca = pca.fit_transform(X_digitos) \n",
    "\n",
    "# con c indicamos que coloree a partir de las posibles clases\n",
    "# dibujamos el grafico con las nuevas 2 componenes que hay para cada elemento del dataset\n",
    "plt.scatter(pca[:, 0], pca[:, 1], c=y_digitos, cmap='tab10') \n",
    "plt.xlabel('Componente Principal 0')\n",
    "plt.ylabel('Componente Principal 1')\n",
    "plt.title(\"Análisis de Componentes Principales para el dataset de digitos manuscritos\")\n",
    "plt.colorbar() # leyenda de colores\n",
    "plt.show()"
   ]
  },
  {
   "attachments": {},
   "cell_type": "markdown",
   "metadata": {},
   "source": [
    "* Con el nuevo gráfico de dispersión podemos comprobar lo que ya sospechábamos, mientras que **el 0** (color azul) es **relativamente distingible** del resto, **otros como el 5 o el 8 se solapan muchísimo** y será más complicado poder distinguirlos."
   ]
  },
  {
   "attachments": {},
   "cell_type": "markdown",
   "metadata": {},
   "source": [
    "## Clasificador Randomforest "
   ]
  },
  {
   "attachments": {},
   "cell_type": "markdown",
   "metadata": {},
   "source": [
    "Antes que nada dividiremos nuestros datos en conjuntos de **entrenamiento**, que usaremos para aprender el modelo, y el de **prueba**, que sevirá para evaluar el rendimiento de dicho modelo (método holdout). Lo haremos con `train_test_split` del módulo `sklearn.model_selection` como ya hemos visto en clase.\n",
    "\n",
    "* Hemos escogido una division en proporción 80-20 para datos de entrenamiento y pruebas.\n",
    "\n",
    "* Más adelante, para evaluarlo, también utilizaremos el método de la **validación cruzada**."
   ]
  },
  {
   "cell_type": "code",
   "execution_count": 95,
   "metadata": {},
   "outputs": [],
   "source": [
    "from sklearn.model_selection import train_test_split\n",
    "\n",
    "X_train,X_test,y_train,y_test=train_test_split(X_digitos,y_digitos,test_size=0.2)"
   ]
  },
  {
   "attachments": {},
   "cell_type": "markdown",
   "metadata": {},
   "source": [
    "Importamos `RandomForestClassifier` del módulo `sklearn.ensemble`, y lo ajustamos a nuestros parámetros con el método `fit`\n",
    "\n",
    "* Con el parámetro `n_estimators` indicamos el nº de árboles de decisión\n",
    "\n",
    "* utilizamos `random_state` para establecer una semilla con la que reproducir los resultados, en principio, al volver a ejecutar el clasificador debería obtener los mismos resultados."
   ]
  },
  {
   "cell_type": "code",
   "execution_count": 96,
   "metadata": {},
   "outputs": [
    {
     "data": {
      "text/html": [
       "<style>#sk-container-id-13 {color: black;background-color: white;}#sk-container-id-13 pre{padding: 0;}#sk-container-id-13 div.sk-toggleable {background-color: white;}#sk-container-id-13 label.sk-toggleable__label {cursor: pointer;display: block;width: 100%;margin-bottom: 0;padding: 0.3em;box-sizing: border-box;text-align: center;}#sk-container-id-13 label.sk-toggleable__label-arrow:before {content: \"▸\";float: left;margin-right: 0.25em;color: #696969;}#sk-container-id-13 label.sk-toggleable__label-arrow:hover:before {color: black;}#sk-container-id-13 div.sk-estimator:hover label.sk-toggleable__label-arrow:before {color: black;}#sk-container-id-13 div.sk-toggleable__content {max-height: 0;max-width: 0;overflow: hidden;text-align: left;background-color: #f0f8ff;}#sk-container-id-13 div.sk-toggleable__content pre {margin: 0.2em;color: black;border-radius: 0.25em;background-color: #f0f8ff;}#sk-container-id-13 input.sk-toggleable__control:checked~div.sk-toggleable__content {max-height: 200px;max-width: 100%;overflow: auto;}#sk-container-id-13 input.sk-toggleable__control:checked~label.sk-toggleable__label-arrow:before {content: \"▾\";}#sk-container-id-13 div.sk-estimator input.sk-toggleable__control:checked~label.sk-toggleable__label {background-color: #d4ebff;}#sk-container-id-13 div.sk-label input.sk-toggleable__control:checked~label.sk-toggleable__label {background-color: #d4ebff;}#sk-container-id-13 input.sk-hidden--visually {border: 0;clip: rect(1px 1px 1px 1px);clip: rect(1px, 1px, 1px, 1px);height: 1px;margin: -1px;overflow: hidden;padding: 0;position: absolute;width: 1px;}#sk-container-id-13 div.sk-estimator {font-family: monospace;background-color: #f0f8ff;border: 1px dotted black;border-radius: 0.25em;box-sizing: border-box;margin-bottom: 0.5em;}#sk-container-id-13 div.sk-estimator:hover {background-color: #d4ebff;}#sk-container-id-13 div.sk-parallel-item::after {content: \"\";width: 100%;border-bottom: 1px solid gray;flex-grow: 1;}#sk-container-id-13 div.sk-label:hover label.sk-toggleable__label {background-color: #d4ebff;}#sk-container-id-13 div.sk-serial::before {content: \"\";position: absolute;border-left: 1px solid gray;box-sizing: border-box;top: 0;bottom: 0;left: 50%;z-index: 0;}#sk-container-id-13 div.sk-serial {display: flex;flex-direction: column;align-items: center;background-color: white;padding-right: 0.2em;padding-left: 0.2em;position: relative;}#sk-container-id-13 div.sk-item {position: relative;z-index: 1;}#sk-container-id-13 div.sk-parallel {display: flex;align-items: stretch;justify-content: center;background-color: white;position: relative;}#sk-container-id-13 div.sk-item::before, #sk-container-id-13 div.sk-parallel-item::before {content: \"\";position: absolute;border-left: 1px solid gray;box-sizing: border-box;top: 0;bottom: 0;left: 50%;z-index: -1;}#sk-container-id-13 div.sk-parallel-item {display: flex;flex-direction: column;z-index: 1;position: relative;background-color: white;}#sk-container-id-13 div.sk-parallel-item:first-child::after {align-self: flex-end;width: 50%;}#sk-container-id-13 div.sk-parallel-item:last-child::after {align-self: flex-start;width: 50%;}#sk-container-id-13 div.sk-parallel-item:only-child::after {width: 0;}#sk-container-id-13 div.sk-dashed-wrapped {border: 1px dashed gray;margin: 0 0.4em 0.5em 0.4em;box-sizing: border-box;padding-bottom: 0.4em;background-color: white;}#sk-container-id-13 div.sk-label label {font-family: monospace;font-weight: bold;display: inline-block;line-height: 1.2em;}#sk-container-id-13 div.sk-label-container {text-align: center;}#sk-container-id-13 div.sk-container {/* jupyter's `normalize.less` sets `[hidden] { display: none; }` but bootstrap.min.css set `[hidden] { display: none !important; }` so we also need the `!important` here to be able to override the default hidden behavior on the sphinx rendered scikit-learn.org. See: https://github.com/scikit-learn/scikit-learn/issues/21755 */display: inline-block !important;position: relative;}#sk-container-id-13 div.sk-text-repr-fallback {display: none;}</style><div id=\"sk-container-id-13\" class=\"sk-top-container\"><div class=\"sk-text-repr-fallback\"><pre>RandomForestClassifier(random_state=20)</pre><b>In a Jupyter environment, please rerun this cell to show the HTML representation or trust the notebook. <br />On GitHub, the HTML representation is unable to render, please try loading this page with nbviewer.org.</b></div><div class=\"sk-container\" hidden><div class=\"sk-item\"><div class=\"sk-estimator sk-toggleable\"><input class=\"sk-toggleable__control sk-hidden--visually\" id=\"sk-estimator-id-13\" type=\"checkbox\" checked><label for=\"sk-estimator-id-13\" class=\"sk-toggleable__label sk-toggleable__label-arrow\">RandomForestClassifier</label><div class=\"sk-toggleable__content\"><pre>RandomForestClassifier(random_state=20)</pre></div></div></div></div></div>"
      ],
      "text/plain": [
       "RandomForestClassifier(random_state=20)"
      ]
     },
     "execution_count": 96,
     "metadata": {},
     "output_type": "execute_result"
    }
   ],
   "source": [
    "from sklearn.ensemble import RandomForestClassifier\n",
    "\n",
    "rfc = RandomForestClassifier(n_estimators=100,random_state=20)\n",
    "rfc.fit(X_train,y_train)"
   ]
  },
  {
   "attachments": {},
   "cell_type": "markdown",
   "metadata": {},
   "source": [
    "Ahora podemos comprobar su rendimiento, por ejemplo sobre datos  con `predict`, y calcular su \"puntuacion\" sobre un conjunto con `score`\n",
    "* Nótese que aunque da un score de 100% de aciertos en el cjto de entrenamiento, con el de prueba desciende a alrededor de un 97%, que aunque sigue siendo muy buena puntuación, es menor."
   ]
  },
  {
   "cell_type": "code",
   "execution_count": 98,
   "metadata": {},
   "outputs": [],
   "source": [
    "import pandas as pd\n",
    "\n",
    "# Al meterlo en esta funcion podemos reutilizarlo para otro dataset mas adelante, y con el parametro clasif, para otro \n",
    "# clasificador como un SVC\n",
    "def imprime_predicciones(X_train,X_test,y_train,y_test,clasif):\n",
    "\n",
    "    # Prediccion de los 10 primeros ejemplos del cjto de entrenamiento junto con su resultado esperado\n",
    "    if(type(y_train)==pd.Series):\n",
    "\n",
    "        # Cambio que realicé a empezar a trabajar con el segundo dataset, cuando son dataframes sólo queremos los valores, \n",
    "        # es sólamente estético\n",
    "        print(\"Predicciones del modelo: {0} \\nResultados esperados: {1}\\n\".format(clasif.predict(X_train[0:9]),y_train[0:9].values))\n",
    "    else:\n",
    "        print(\"Predicciones del modelo: {0} \\nResultados esperados: {1}\\n\".format(clasif.predict(X_train[0:9]),y_train[0:9]))\n",
    "\n",
    "    # Puntuación (porcentaje de aciertos) en entrenamiento y prueba, rfc.score los da como decimales, se han convertido a porcentajes\n",
    "    # con round() redondeamos dicho porcentaje, en este caso a 3 cifras decimales.\n",
    "    print(\"Puntuación sobre cjto de entrenamiento: {0}\".format(round(float(clasif.score(X_train,y_train))*100,3)),\"%\\n\")\n",
    "    print(\"Puntuación sobre cjto de prueba: {0}\".format(round(float(clasif.score(X_test,y_test))*100,3)),\"%\\n\")"
   ]
  },
  {
   "cell_type": "code",
   "execution_count": 99,
   "metadata": {},
   "outputs": [
    {
     "name": "stdout",
     "output_type": "stream",
     "text": [
      "Predicciones del modelo: [0 3 9 9 4 3 3 2 2] \n",
      "Resultados esperados: [0 3 9 9 4 3 3 2 2]\n",
      "\n",
      "Puntuación sobre cjto de entrenamiento: 100.0 %\n",
      "\n",
      "Puntuación sobre cjto de prueba: 98.056 %\n",
      "\n"
     ]
    }
   ],
   "source": [
    "imprime_predicciones(X_train,X_test,y_train,y_test,clasif=rfc)"
   ]
  },
  {
   "attachments": {},
   "cell_type": "markdown",
   "metadata": {},
   "source": [
    "## Método de la validación cruzada\n",
    "\n",
    "Como ya hemos estudiado el método de la **validacion cruzada** consiste en dividir el conjunto en k-partes de igual tamaño, con estas haremos k aprendizajes usando en cada uno una de las partes como test y el resto como entrenamiento\n",
    "\n",
    "* Para utilizarlo importamos `cross_val_score` de `sklearn.model_selection`\n",
    "* Es importante aclarar que estamos **evaluando** el modelo sobre los datos de digitos, no aprendiendolo."
   ]
  },
  {
   "cell_type": "code",
   "execution_count": 100,
   "metadata": {},
   "outputs": [
    {
     "name": "stdout",
     "output_type": "stream",
     "text": [
      "Puntuaciones obtenidas en cada pliegue(fold):  [0.92222222 0.9        0.96100279 0.9637883  0.93036212]\n",
      "Puntuación media obtenida:  0.9354750851129682\n"
     ]
    }
   ],
   "source": [
    "from sklearn.model_selection import cross_val_score\n",
    "\n",
    "# utilizamos cross_val_score introduciendo el modelo a evaluar (rfc)\n",
    "# que en nuestro caso es nuestro randomForest, los conjuntos X e y de \n",
    "# los datos que usaremos, y con el parámetro cv determinamos el \n",
    "# numero de k-folds (pliegues)\n",
    "scores = cross_val_score(rfc,X_digitos,y_digitos,cv=5)\n",
    "\n",
    "print(\"Puntuaciones obtenidas en cada pliegue(fold): \",scores)\n",
    "print(\"Puntuación media obtenida: \", scores.mean())"
   ]
  },
  {
   "attachments": {},
   "cell_type": "markdown",
   "metadata": {},
   "source": [
    "## Ajuste de Hiperparámetros\n",
    "\n",
    "En clase hemos estudiado lo que son los **hiperparámetros**, y para el caso de RandomForest uno muy importante es el **número de árboles de decisión que utilizamos**, aunque hemos indicado 100 al principio, podemos realizar un pequeño gráfico que nos indique cómo evoluciona el rendimiento del modelo según aumentamos el nº de árboles.\n",
    "* Se han hecho pruebas de 1 a 30 árboles,y luego de 30 a 100 en intervalos de 5 por cuestión de velocidad\n"
   ]
  },
  {
   "cell_type": "code",
   "execution_count": 101,
   "metadata": {},
   "outputs": [],
   "source": [
    "def dibuja_arboles(X_train,X_test,y_train,y_test): \n",
    "   # almacenaremos las puntuaciones de entrenamiento y prueba\n",
    "   train_scores = []\n",
    "   test_scores = []\n",
    "\n",
    "   # número de árboles que se irán usando, tal y como está descrito arriba, de 1 a 30 y luego de 10 a 100 en intervalos de 5, le range es\n",
    "   # hasta 101 para incluir el caso de 100\n",
    "   r1 = list(range(1,30))\n",
    "   r2 = list(range(30,101,5))\n",
    "   arboles_rango = r1+r2 \n",
    "\n",
    "   # hacemos un modelo para cada número de árboles\n",
    "   for a in arboles_rango:\n",
    "      # creamos el objeto y hacemos fit con nuestros datos de entrenamiento\n",
    "      rfc2 = RandomForestClassifier(n_estimators=a) \n",
    "      rfc2.fit(X_train,y_train)\n",
    "      # calculamos su puntuación sobre conjunto de entrenamiento\n",
    "      train_scores.append(rfc2.score(X_train, y_train))\n",
    "      # ahora sobre el conjunto de prueba (realmente este es el que interesa)\n",
    "      test_scores.append(rfc2.score(X_test, y_test))\n",
    "\n",
    "   plt.plot(arboles_rango, train_scores, label=\"Puntuación entrenamiento\")\n",
    "   plt.plot(arboles_rango, test_scores, label=\"Puntuación prueba\")\n",
    "   plt.ylabel(\"Rendimiento\")\n",
    "   plt.xlabel(\"nº de árboles\")\n",
    "   plt.xticks(range(0,101,5)) # etiquetas del eje x \n",
    "   plt.legend()\n",
    "   plt.grid() # malla para facilitar visualización\n",
    "   plt.show()"
   ]
  },
  {
   "cell_type": "code",
   "execution_count": 102,
   "metadata": {},
   "outputs": [
    {
     "data": {
      "image/png": "[encoded data removed]",
      "text/plain": [
       "<Figure size 640x480 with 1 Axes>"
      ]
     },
     "metadata": {},
     "output_type": "display_data"
    }
   ],
   "source": [
    "dibuja_arboles(X_train,X_test,y_train,y_test)"
   ]
  },
  {
   "attachments": {},
   "cell_type": "markdown",
   "metadata": {},
   "source": [
    "Como podemos observar la puntuación en el conjunto de entrenamiento se estabiliza en torno al 100% sobre los 10 árboles, pero lo que nos interesa es el rendimiento sobre el conjunto de pruebas, aquí vemos que el rendimiento va variando más, siendo en torno a los 25-30 árboles donde alcanzamos un mejor punto, si bien ya con poco más de 10 árboles estamos ya alrededor de un 95% de puntuación con 30 tenemos un 97% aproximadamente, usar más o menos árboles impactará en el rendimiento, y cómo a partir de **30-40 árboles se mantiene estable**.\n"
   ]
  },
  {
   "attachments": {},
   "cell_type": "markdown",
   "metadata": {},
   "source": [
    "Sin embargo este método es rudimentario, y sólo estamos alterando un hiperparámetro, normalmente querremos probar distintas combinaciones de hiperparámetros, aprender y evaluar el modelo para cada una de ellas, y seleccionar la mejor combinacion, esto se denomina _grid search_.\n",
    "\n",
    "* `sklearn` nos proporciona la clase `GridSearchCV` del módulo `model_selection` como implementación\n",
    "\n",
    "* Primero debemos definir los parámetros a evaluar, podemos observar los parámetros que estamos utilizando ahora mismo con `get_params` :\n",
    "\n",
    "\n"
   ]
  },
  {
   "cell_type": "code",
   "execution_count": 103,
   "metadata": {},
   "outputs": [
    {
     "name": "stdout",
     "output_type": "stream",
     "text": [
      "{'bootstrap': True, 'ccp_alpha': 0.0, 'class_weight': None, 'criterion': 'gini', 'max_depth': None, 'max_features': 'sqrt', 'max_leaf_nodes': None, 'max_samples': None, 'min_impurity_decrease': 0.0, 'min_samples_leaf': 1, 'min_samples_split': 2, 'min_weight_fraction_leaf': 0.0, 'n_estimators': 100, 'n_jobs': None, 'oob_score': False, 'random_state': 20, 'verbose': 0, 'warm_start': False}\n"
     ]
    }
   ],
   "source": [
    "print(rfc.get_params())"
   ]
  },
  {
   "attachments": {},
   "cell_type": "markdown",
   "metadata": {},
   "source": [
    "Como podemos ver son bastantes, vamos a centrarnos en algunos de los más importantes:\n",
    "\n",
    "* **n_estimators:** número de árboles\n",
    "* **max_features:** número máximo de características consideradas en un nodo antes de dividirlo\n",
    "* **max_depth:** profundidad máxima de los árboles\n",
    "* **min_samples_split:** número mínimo de ejemplos para dividir un nodo (interno)\n",
    "* **min_samples_leaf** número mínimo de ejemplos en un nodo hoja"
   ]
  },
  {
   "cell_type": "code",
   "execution_count": 104,
   "metadata": {},
   "outputs": [
    {
     "name": "stdout",
     "output_type": "stream",
     "text": [
      "Mejores parámetros: {'max_depth': None, 'max_features': 'log2', 'min_samples_leaf': 2, 'min_samples_split': 2, 'n_estimators': 40}\n",
      "\n",
      "Mejor puntaje: 0.9337883008356547\n"
     ]
    }
   ],
   "source": [
    "from sklearn.model_selection import GridSearchCV\n",
    "\n",
    "# diccionario de parámetros, los valores dados a cada clave (parametro) son de ejemplo\n",
    "# para que GridSearchCV encuentre los mejores, probará todas las combinaciones posibles.\n",
    "params = {\n",
    "    \"n_estimators\": [20, 30, 40],\n",
    "    \"max_depth\": [None, 5, 10],\n",
    "    \"min_samples_split\": [2, 5],\n",
    "    \"min_samples_leaf\": [1, 2],\n",
    "    \"max_features\": [\"sqrt\", \"log2\"]\n",
    "}\n",
    "\n",
    "# creamos el objeto y le hacemos fit para ajustarlo a nuestro clasificador\n",
    "# con cv indicamos los k-folds para la validación cruzada.\n",
    "grid_search = GridSearchCV(rfc, param_grid=params, cv=5)\n",
    "grid_search.fit(X_digitos, y_digitos)\n",
    "\n",
    "# Imprimimos los mejores parámetros y el puntaje de la mejor combinación\n",
    "print(\"Mejores parámetros:\", grid_search.best_params_)\n",
    "print(\"\\nMejor puntaje:\", grid_search.best_score_)"
   ]
  },
  {
   "attachments": {},
   "cell_type": "markdown",
   "metadata": {},
   "source": [
    "Con esto hemos utilizado `GridSearchCV` para encontrar la mejor combinación de parámetros, evaluando con el método de la validación cruzada"
   ]
  },
  {
   "attachments": {},
   "cell_type": "markdown",
   "metadata": {},
   "source": [
    "Con la siguiente función `muestra_predicciones(digito,nfilas,ncols)` mostramos ejemplos del dígito que le introduzcamos y nos devolverá una serie de ejemplos, y cómo los ha catalogado el clasificador RandomForest, introduciendo el 3 vemos que hay varios mal clasificados, mientras que con el 0 es difícil encontrar alguno.\n",
    "\n",
    "* Con el parametro `clasif` puedo reutilizar el código para el clasificador `svc` luego.\n"
   ]
  },
  {
   "cell_type": "code",
   "execution_count": 105,
   "metadata": {},
   "outputs": [],
   "source": [
    "import numpy as np\n",
    "import math\n",
    "\n",
    "def muestra_predicciones(digito,clasif):\n",
    "\n",
    "    # Calculamos las prediciones del modelo para cada ejemplo\n",
    "    predicciones = clasif.predict(X_test)\n",
    "\n",
    "    # Obtenemos los índices donde la prediccion da el dígito que queremos, \n",
    "    # como es un array de numpy es fácilhacerlo con np.where()\n",
    "    indices = np.where(predicciones==digito)\n",
    "\n",
    "    # Ahora que tenemos los índices, obtenemos los subarrays de X_test e y_test\n",
    "    # que tienen sólo esos ejemplos\n",
    "    clasificados = X_test[indices]\n",
    "    valor_real = y_test[indices]\n",
    "\n",
    "    # Array con las predicciones del clasificador de dichos ejemplos\n",
    "    predicciones_digito = clasif.predict(clasificados)\n",
    "\n",
    "    # Dibujamos, se dibujarán tantos ejemplos como haya clasificados, para ello repetimos la grid\n",
    "    # que hemos utilizado antes con algunos retoques\n",
    "    # Calcular el número de ejemplos es tan sencillo como hacer len() del array de predicciones\n",
    "    num_ejemplos = len(clasificados)\n",
    "\n",
    "    # Para calcular las imagenes que mostramos por fila hacemos la raiz cuadrada del número de ejemplos\n",
    "    # Para las columnas utilizamos math.ceil, que devuelve el menor entero mayor que el número indicado\n",
    "    # en este caso ese número es los ejemplos/las filas, es bastante intuitivo una vez hemos obtenido \n",
    "    # el nº de filas\n",
    "    nfilas = int(math.sqrt(num_ejemplos))\n",
    "    ncols = math.ceil(num_ejemplos/nfilas)\n",
    "\n",
    "    fig,axes = plt.subplots(nrows=nfilas,ncols=ncols,figsize=(10, 5))\n",
    "    for i,ax in enumerate(axes.flat):\n",
    "\n",
    "        # mientras podamos mostrar ejemplos los mostramos\n",
    "        if i < num_ejemplos: \n",
    "\n",
    "            # Utilizamos reshape para dar forma a la matriz de la imagen\n",
    "            ax.imshow(clasificados[i].reshape(8,8),cmap=plt.cm.gray_r)\n",
    "\n",
    "            # Aquí para cada imagen le colocamos su valor de clasificación, y su valor real\n",
    "            # obtenidos de los arrays de arriba\n",
    "            ax.set_title(\"Clasif {0}, Val {1}\".format(predicciones_digito[i],valor_real[i]))\n",
    "        else : \n",
    "\n",
    "            # Como no siempre podremos rellenar la última fila hacemos que los vacíos no aparezcan\n",
    "            # con set_visible(False), es púramente estético\n",
    "            ax.set_visible(False)\n",
    "\n",
    "        ax.set_xticks([])\n",
    "        ax.set_yticks([])\n",
    "    # título general para toda la grid\n",
    "    fig.suptitle(\"Dígitos clasificados como \"+str(digito), fontsize=20, fontweight=\"bold\")\n",
    "    plt.tight_layout()\n",
    "    plt.show()"
   ]
  },
  {
   "cell_type": "code",
   "execution_count": 106,
   "metadata": {},
   "outputs": [
    {
     "data": {
      "image/png": "[encoded data removed]",
      "text/plain": [
       "<Figure size 1000x500 with 30 Axes>"
      ]
     },
     "metadata": {},
     "output_type": "display_data"
    }
   ],
   "source": [
    "muestra_predicciones(3,clasif=rfc) "
   ]
  },
  {
   "attachments": {},
   "cell_type": "markdown",
   "metadata": {},
   "source": [
    "Es una representacion muy completa, pero como a veces puede hacerse un poco tedioso la siguiente muestra un ejemplo bien clasificado y otro mal clasificado para el dígito indicado: \n",
    "\n",
    "* En principio cómo hemos utilizado `random_state` no habría que cambiar nada, pero si al ejecutar el código no muestra un ejemplo mal clasificado se puede cambiar el dígito que se introduce como parámetro hasta que se de el caso."
   ]
  },
  {
   "cell_type": "code",
   "execution_count": 107,
   "metadata": {},
   "outputs": [],
   "source": [
    "def muestra_un_digito(digito,clasif):\n",
    "\n",
    "    # Calculamos las prediciones del modelo para cada ejemplo\n",
    "    predicciones = clasif.predict(X_test)\n",
    "\n",
    "    # Obtenemos los índices donde la prediccion da el dígito que queremos, \n",
    "    # como es un array de numpy es fácilhacerlo con np.where()\n",
    "\n",
    "    # Ahora que tenemos los índices, obtenemos los subarrays de X_test e y_test\n",
    "    # que tienen sólo esos ejemplos\n",
    "\n",
    "    # Utilizamos np.where para encontrar un dígito bien clasificado, tomamos su índice\n",
    "    # extraemos su valor real, y valor de clasificacion (que deben coincidir)\n",
    "    # tambien obtenemos el ejemplo para mostrarlo más adelante\n",
    "    indice_correctos = np.where((predicciones==digito) & (y_test == digito))\n",
    "    clasificado_correcto = X_test[indice_correctos][0]\n",
    "    valor_real_correcto = y_test[indice_correctos][0]\n",
    "    valor_clasif_correcto = predicciones[indice_correctos][0]\n",
    "\n",
    "    try:\n",
    "\n",
    "        # Como no siempre hay ejemplos mal clasificados, con try/except hacemos que mientras no\n",
    "        # de IndexError (que no encuentre un indice de alguno mal clasificado) repita el proceso de\n",
    "        # arriba, sólo que buscando un dígito incorrecto, es decir prediccion =/= valor real, eso lo \n",
    "        # hacemos con np.where() otra vez\n",
    "        indice_incorrectos = np.where((predicciones != digito) & (y_test == digito))\n",
    "        clasificado_incorrecto = X_test[indice_incorrectos][0]\n",
    "        valor_real_incorrecto = y_test[indice_incorrectos][0]\n",
    "        valor_clasif_incorrecto = predicciones[indice_incorrectos][0]   \n",
    "\n",
    "        # Para poder iterarlos más cómodamente\n",
    "        clasificados = [clasificado_incorrecto, clasificado_correcto]\n",
    "        valor_real = [valor_real_incorrecto, valor_real_correcto]\n",
    "        valor_clasif = [valor_clasif_incorrecto,valor_clasif_correcto]\n",
    "\n",
    "        # esta vez la grid es si o si de dos imagenes\n",
    "        fig,axes = plt.subplots(nrows=1,ncols=2,figsize=(10, 5))\n",
    "\n",
    "        # mismo proceso para iterar que anteriormente\n",
    "        for i, ax in enumerate(axes.flat):\n",
    "            ax.imshow(clasificados[i].reshape(8,8),cmap=plt.cm.gray_r)\n",
    "            ax.set_title(\"Clasificado: {0}, Valor Real : {1}\".format(valor_clasif[i],valor_real[i]))\n",
    "        \n",
    "            ax.set_xticks([])\n",
    "            ax.set_yticks([])\n",
    "\n",
    "        fig.suptitle(\"Ejemplo para la clase \"+str(digito), fontsize=20, fontweight=\"bold\")\n",
    "        plt.show()\n",
    "    \n",
    "    except IndexError:\n",
    "\n",
    "        # para el caso de que no exista ejemplo mal clasificado, uso directamente plt por que sólo muestro una imagen\n",
    "        print(\"No hay ejemplos mal clasificados para la clase dada.\\nMostrando sólo un Ejemplo bien clasificado\")\n",
    "        plt.imshow(clasificado_correcto.reshape(8,8),cmap=plt.cm.gray_r)\n",
    "        plt.title(\"Clasificado: {0}, Valor Real : {1}\".format(valor_clasif_correcto,valor_real_correcto))\n",
    "\n",
    "        # esta opción es más elegante que hacerlo set_yticks([]) y set_xticks([]), pero cuando lo uso iterando como\n",
    "        # arriba sólo se aplica al último\n",
    "        plt.axis(\"off\")\n",
    "\n"
   ]
  },
  {
   "cell_type": "code",
   "execution_count": 108,
   "metadata": {},
   "outputs": [
    {
     "data": {
      "image/png": "[encoded data removed]",
      "text/plain": [
       "<Figure size 1000x500 with 2 Axes>"
      ]
     },
     "metadata": {},
     "output_type": "display_data"
    }
   ],
   "source": [
    "muestra_un_digito(3,clasif=rfc)"
   ]
  },
  {
   "attachments": {},
   "cell_type": "markdown",
   "metadata": {},
   "source": [
    "## Métricas de evaluación del modelo\n",
    " \n",
    "Una vez hemos aprendido el modelo y observado su funcionamiento, y cómo clasifica ejemplos, tanto correctamente como incorrectamente, podemos evaluar su calidad con una serie de métricas vistas en clase, podemos empezar observando la matriz de confusión.\n",
    "\n",
    "* Importamos `confusion_matrix` de `sklearn.metrics` y obtenemos la de nuestro clasificador:"
   ]
  },
  {
   "cell_type": "code",
   "execution_count": 109,
   "metadata": {},
   "outputs": [
    {
     "name": "stdout",
     "output_type": "stream",
     "text": [
      "[[33  0  0  0  1  0  0  0  0  0]\n",
      " [ 0 36  0  0  0  0  0  0  0  0]\n",
      " [ 0  0 44  0  0  0  0  0  0  0]\n",
      " [ 0  1  0 29  0  0  0  0  0  0]\n",
      " [ 0  0  0  0 33  0  0  1  0  0]\n",
      " [ 0  0  0  0  0 45  0  0  0  0]\n",
      " [ 0  0  0  0  0  0 34  0  0  0]\n",
      " [ 0  0  0  0  0  0  0 31  0  0]\n",
      " [ 0  2  0  0  0  0  0  0 39  1]\n",
      " [ 0  0  0  1  0  0  0  0  0 29]]\n"
     ]
    }
   ],
   "source": [
    "from sklearn.metrics import confusion_matrix\n",
    "\n",
    "predicciones = rfc.predict(X_test)\n",
    "\n",
    "# obtenemos la matriz de confusión\n",
    "cm = confusion_matrix(y_test,predicciones)\n",
    "print(cm)"
   ]
  },
  {
   "attachments": {},
   "cell_type": "markdown",
   "metadata": {},
   "source": [
    "Pese a haber utilizado `random_state` es posible que la matriz cambie cada vez que entrenemos el clasificador, aquí está el resultado que yo he obtenido: \n",
    "\n",
    "                                [[40  0  0  0  0  0  0  0  0  0]\n",
    "                                 [ 0 40  0  0  0  0  0  0  1  0]\n",
    "                                 [ 0  0 34  0  0  0  0  0  0  0]\n",
    "                                 [ 0  1  0 34  0  0  0  0  0  0]\n",
    "                                 [ 0  0  0  0 31  0  1  1  0  1]\n",
    "                                 [ 0  0  0  0  0 33  0  0  1  0]\n",
    "                                 [ 1  0  0  0  0  0 33  0  0  0]\n",
    "                                 [ 0  0  0  0  0  0  0 37  0  1]\n",
    "                                 [ 0  1  1  1  1  0  0  1 30  0]\n",
    "                                 [ 0  0  0  1  0  0  0  1  0 33]]\n",
    "\n",
    "Las filas de la matriz representan los valores reales de los ejemplos, y las columnas las predicciones del clasificador\n",
    "\n",
    "* Por ejemplo, para la clase 0 ha clasificado 40 ejemplos como clase 0, de los 4 que son realmente de clase 0, si bien ha clasificado incorrectamente un clase 6 como clase 0 \n",
    "\n",
    "* Sin embargo en la clase 1 clasificó un ejemplo de clase 3 y otro de clase 8 incorrectamente como clase 1.\n",
    "\n",
    "* Otro caso es la clase 8, varios ejemplos de esta clase han sido clasificados incorrectamente en distintas clases"
   ]
  },
  {
   "attachments": {},
   "cell_type": "markdown",
   "metadata": {},
   "source": [
    "Por ahora hemos estado utilizando sólo la tasa de aciertos como medida del rendimiento, como hemos estudiado, esto no es lo más apropiado en la mayoría de los casos, siendo necesario utilizar otras medidas:\n",
    "\n",
    "* **Accuracy:** Proporción de aciertos del modelo, es la que hemos estado utilizando anteriormente\n",
    "* **Precision:** proporción de los verdaderos positivos de entre los que el modelo ha predecido como positivos\n",
    "* **Recall:** verdaderos positivos detectados entre los positivos reales\n",
    "* **F1:** media armónica entre precision y recall, es muy utilizada al combinar ambas\n",
    "\n",
    "`sklearn` tiene estas medidas implementadas, sólo tenemos que importar `classification_report` del módulo `metrics`, como parámetros pasaremos los valores reales de cada ejemplo del dataset, y las predicciones que ha hecho nuestro modelo."
   ]
  },
  {
   "cell_type": "code",
   "execution_count": 110,
   "metadata": {},
   "outputs": [
    {
     "name": "stdout",
     "output_type": "stream",
     "text": [
      "              precision    recall  f1-score   support\n",
      "\n",
      "           0       1.00      0.97      0.99        34\n",
      "           1       0.92      1.00      0.96        36\n",
      "           2       1.00      1.00      1.00        44\n",
      "           3       0.97      0.97      0.97        30\n",
      "           4       0.97      0.97      0.97        34\n",
      "           5       1.00      1.00      1.00        45\n",
      "           6       1.00      1.00      1.00        34\n",
      "           7       0.97      1.00      0.98        31\n",
      "           8       1.00      0.93      0.96        42\n",
      "           9       0.97      0.97      0.97        30\n",
      "\n",
      "    accuracy                           0.98       360\n",
      "   macro avg       0.98      0.98      0.98       360\n",
      "weighted avg       0.98      0.98      0.98       360\n",
      "\n"
     ]
    }
   ],
   "source": [
    "from sklearn.metrics import classification_report\n",
    "\n",
    "print(classification_report(y_test, predicciones))"
   ]
  },
  {
   "attachments": {},
   "cell_type": "markdown",
   "metadata": {},
   "source": [
    "Aquí mis resultados: \n",
    "\n",
    "                                    precision    recall  f1-score   support\n",
    "\n",
    "                                0       0.98      1.00      0.99        40\n",
    "                                1       0.95      0.98      0.96        41\n",
    "                                2       0.97      1.00      0.99        34\n",
    "                                3       0.94      0.97      0.96        35\n",
    "                                4       0.97      0.91      0.94        34\n",
    "                                5       1.00      0.97      0.99        34\n",
    "                                6       0.97      0.97      0.97        34\n",
    "                                7       0.93      0.97      0.95        38\n",
    "                                8       0.94      0.86      0.90        35\n",
    "                                9       0.94      0.94      0.94        35\n",
    "\n",
    "                         accuracy                           0.96       360\n",
    "                        macro avg       0.96      0.96      0.96       360\n",
    "                     weighted avg       0.96      0.96      0.96       360\n",
    "\n",
    "En estos resultados de `classification_report` podemos notar que ha calculado cada métrica para cada clase posible, y finalmente tenemos al final la tasa de aciertos del modelo, que es de en torno al 96%\n",
    "\n",
    "* la columna `support` (soporte) indica el total de ejemplos verdaderos de cada clase del conjunto de datos.\n",
    "\n",
    "* `macro avg` es la media aritmética de la métrica de la columna, `weighted avg` es la media ponderada, por tanto la primera da la misma importancia a cada clase mientras que la última las pondera en funciñon de su tamaño/distribución.\n",
    "\n",
    "* las medidas resultantes son bastante altas, lo que indica que el modelo distingue bien cada clase, sin embargo, al fijarnos en las filas de cada clase descubriremos algunas en las que ha tenido más éxito que en otras, como vimos antes, muy seguramente, dígitos como el 0 no los confundirá a menudo mientras que con otros como el 8 será algo más común que se equivoque, observando la matriz de confusión o los resultados de `classification_report` localizamos rápidamente estos casos. Algunos de los valores que salen un poco de la norma y destacamos son estos:\n",
    "\n",
    "    * Para la clase 7 tenemos una ***precision*** de 0.93, lo que indica que algunos ejemplos se han clasificados incorrectamente como clase 7\n",
    "\n",
    "    * Para la clase 8 tenemos un ***recall*** de 0.86, por tanto un número anormalmente bajo, comparado con la media tanto aritmética como ponderada de 0.96, quiere decir que el clasificador ha idenificado correctamente como clase 8 al 86% de ejemplos totales de esa clase\n",
    "\n",
    "    * En ambos casos estos datos anormales se han visto reflejados en **una medida F1 menor que la media**, que indica que el modelo es ligeramente peor clasificando esas clases"
   ]
  },
  {
   "attachments": {},
   "cell_type": "markdown",
   "metadata": {},
   "source": [
    "Observando la matriz de confusión una vez más podemos considerar los dígitos que han sido confundidos para construir un clasificador binario capaz de distinguir entre 2 dígitos concretos:"
   ]
  },
  {
   "cell_type": "code",
   "execution_count": 111,
   "metadata": {},
   "outputs": [],
   "source": [
    "from sklearn.svm import SVC\n",
    "\n",
    "def clasif_binario(digito1,digito2,clasif):\n",
    "    \n",
    "    # Con np.logical_or() escogemos los de una condicion y otra, para quedarnos solo con los 2 digitos que queremos\n",
    "    X = X_digitos[np.logical_or(y_digitos==digito1, y_digitos==digito2)]\n",
    "    y = y_digitos[np.logical_or(y_digitos==digito1, y_digitos==digito2)]\n",
    "\n",
    "    # lo demás es igual a como lo hicimos anteriormente\n",
    "    X_train_bin,X_test_bin, y_train_bin, y_test_bin = train_test_split(X,y,test_size=0.2)\n",
    "\n",
    "    # con esto podemos utilizarlo tanto para RandomForest como para SVC\n",
    "    if(clasif == RandomForestClassifier):\n",
    "        c_bin = RandomForestClassifier(n_estimators=30)\n",
    "        c_bin.fit(X_train_bin,y_train_bin)\n",
    "    else:\n",
    "        c_bin = SVC()\n",
    "        c_bin.fit(X_train_bin,y_train_bin)\n",
    "    predicciones_bin = c_bin.predict(X_test_bin)\n",
    "\n",
    "    cm = confusion_matrix(y_test_bin,predicciones_bin)\n",
    "\n",
    "\n",
    "    print(\"--- Puntuación sobre cjto de entrenamiento: {0}\".format(round(float(clasif.score(X_train,y_train))*100,3)),\"%\\n\")\n",
    "    print(\"--- Puntuación sobre cjto de prueba: {0}\".format(round(float(clasif.score(X_test,y_test))*100,3)),\"%\\n\")\n",
    "\n",
    "    print(\"--- Matriz de confusión del clasificador binario para los dígitos {0} y {1}\\n\\n\".format(digito1,digito2),cm)\n",
    "\n",
    "    print(\"\\n--- Informe de clasificación del clasificador RandomForest binario\\n\\n\",classification_report(y_test_bin, predicciones_bin))\n",
    "    "
   ]
  },
  {
   "cell_type": "code",
   "execution_count": 112,
   "metadata": {},
   "outputs": [
    {
     "name": "stdout",
     "output_type": "stream",
     "text": [
      "--- Puntuación sobre cjto de entrenamiento: 100.0 %\n",
      "\n",
      "--- Puntuación sobre cjto de prueba: 98.056 %\n",
      "\n",
      "--- Matriz de confusión del clasificador binario para los dígitos 8 y 4\n",
      "\n",
      " [[39  1]\n",
      " [ 0 31]]\n",
      "\n",
      "--- Informe de clasificación del clasificador RandomForest binario\n",
      "\n",
      "               precision    recall  f1-score   support\n",
      "\n",
      "           4       1.00      0.97      0.99        40\n",
      "           8       0.97      1.00      0.98        31\n",
      "\n",
      "    accuracy                           0.99        71\n",
      "   macro avg       0.98      0.99      0.99        71\n",
      "weighted avg       0.99      0.99      0.99        71\n",
      "\n"
     ]
    }
   ],
   "source": [
    "clasif_binario(8,4,clasif=rfc)"
   ]
  },
  {
   "attachments": {},
   "cell_type": "markdown",
   "metadata": {},
   "source": [
    "Aquí están los resultados que he obtenido con las clases 8 y 4: \n",
    "\n",
    "                           precision    recall  f1-score   support\n",
    "\n",
    "                        4       1.00      1.00      1.00        34\n",
    "                        8       1.00      1.00      1.00        37\n",
    "\n",
    "                caccuracy                           1.00        71\n",
    "                macro avg       1.00      1.00      1.00        71\n",
    "             weighted avg       1.00      1.00      1.00        71\n",
    "\n",
    "Para este caso notamos que el dígito 8, que antes le costaba un poco más de lo normal clasificar bien ha tenido resultados perfectos al compararlo con el 4, podemos llamar a la función con par de dígitos para ver como da resultado, pero en general se equivoca muy poco.\n",
    "\n",
    "\n",
    "\n",
    "---\n"
   ]
  },
  {
   "attachments": {},
   "cell_type": "markdown",
   "metadata": {},
   "source": [
    "### Clasificador SVC\n",
    "\n",
    "Ahora probaremos a utilizar máquinas de vectores soporte (SVM) para la clasificación, y compararemos su rendimiento con el RandomForest\n",
    "\n",
    "* Para utilizarlo, importamos `SVC`  de `sklearn.svm`"
   ]
  },
  {
   "cell_type": "code",
   "execution_count": 113,
   "metadata": {},
   "outputs": [
    {
     "data": {
      "text/html": [
       "<style>#sk-container-id-14 {color: black;background-color: white;}#sk-container-id-14 pre{padding: 0;}#sk-container-id-14 div.sk-toggleable {background-color: white;}#sk-container-id-14 label.sk-toggleable__label {cursor: pointer;display: block;width: 100%;margin-bottom: 0;padding: 0.3em;box-sizing: border-box;text-align: center;}#sk-container-id-14 label.sk-toggleable__label-arrow:before {content: \"▸\";float: left;margin-right: 0.25em;color: #696969;}#sk-container-id-14 label.sk-toggleable__label-arrow:hover:before {color: black;}#sk-container-id-14 div.sk-estimator:hover label.sk-toggleable__label-arrow:before {color: black;}#sk-container-id-14 div.sk-toggleable__content {max-height: 0;max-width: 0;overflow: hidden;text-align: left;background-color: #f0f8ff;}#sk-container-id-14 div.sk-toggleable__content pre {margin: 0.2em;color: black;border-radius: 0.25em;background-color: #f0f8ff;}#sk-container-id-14 input.sk-toggleable__control:checked~div.sk-toggleable__content {max-height: 200px;max-width: 100%;overflow: auto;}#sk-container-id-14 input.sk-toggleable__control:checked~label.sk-toggleable__label-arrow:before {content: \"▾\";}#sk-container-id-14 div.sk-estimator input.sk-toggleable__control:checked~label.sk-toggleable__label {background-color: #d4ebff;}#sk-container-id-14 div.sk-label input.sk-toggleable__control:checked~label.sk-toggleable__label {background-color: #d4ebff;}#sk-container-id-14 input.sk-hidden--visually {border: 0;clip: rect(1px 1px 1px 1px);clip: rect(1px, 1px, 1px, 1px);height: 1px;margin: -1px;overflow: hidden;padding: 0;position: absolute;width: 1px;}#sk-container-id-14 div.sk-estimator {font-family: monospace;background-color: #f0f8ff;border: 1px dotted black;border-radius: 0.25em;box-sizing: border-box;margin-bottom: 0.5em;}#sk-container-id-14 div.sk-estimator:hover {background-color: #d4ebff;}#sk-container-id-14 div.sk-parallel-item::after {content: \"\";width: 100%;border-bottom: 1px solid gray;flex-grow: 1;}#sk-container-id-14 div.sk-label:hover label.sk-toggleable__label {background-color: #d4ebff;}#sk-container-id-14 div.sk-serial::before {content: \"\";position: absolute;border-left: 1px solid gray;box-sizing: border-box;top: 0;bottom: 0;left: 50%;z-index: 0;}#sk-container-id-14 div.sk-serial {display: flex;flex-direction: column;align-items: center;background-color: white;padding-right: 0.2em;padding-left: 0.2em;position: relative;}#sk-container-id-14 div.sk-item {position: relative;z-index: 1;}#sk-container-id-14 div.sk-parallel {display: flex;align-items: stretch;justify-content: center;background-color: white;position: relative;}#sk-container-id-14 div.sk-item::before, #sk-container-id-14 div.sk-parallel-item::before {content: \"\";position: absolute;border-left: 1px solid gray;box-sizing: border-box;top: 0;bottom: 0;left: 50%;z-index: -1;}#sk-container-id-14 div.sk-parallel-item {display: flex;flex-direction: column;z-index: 1;position: relative;background-color: white;}#sk-container-id-14 div.sk-parallel-item:first-child::after {align-self: flex-end;width: 50%;}#sk-container-id-14 div.sk-parallel-item:last-child::after {align-self: flex-start;width: 50%;}#sk-container-id-14 div.sk-parallel-item:only-child::after {width: 0;}#sk-container-id-14 div.sk-dashed-wrapped {border: 1px dashed gray;margin: 0 0.4em 0.5em 0.4em;box-sizing: border-box;padding-bottom: 0.4em;background-color: white;}#sk-container-id-14 div.sk-label label {font-family: monospace;font-weight: bold;display: inline-block;line-height: 1.2em;}#sk-container-id-14 div.sk-label-container {text-align: center;}#sk-container-id-14 div.sk-container {/* jupyter's `normalize.less` sets `[hidden] { display: none; }` but bootstrap.min.css set `[hidden] { display: none !important; }` so we also need the `!important` here to be able to override the default hidden behavior on the sphinx rendered scikit-learn.org. See: https://github.com/scikit-learn/scikit-learn/issues/21755 */display: inline-block !important;position: relative;}#sk-container-id-14 div.sk-text-repr-fallback {display: none;}</style><div id=\"sk-container-id-14\" class=\"sk-top-container\"><div class=\"sk-text-repr-fallback\"><pre>SVC()</pre><b>In a Jupyter environment, please rerun this cell to show the HTML representation or trust the notebook. <br />On GitHub, the HTML representation is unable to render, please try loading this page with nbviewer.org.</b></div><div class=\"sk-container\" hidden><div class=\"sk-item\"><div class=\"sk-estimator sk-toggleable\"><input class=\"sk-toggleable__control sk-hidden--visually\" id=\"sk-estimator-id-14\" type=\"checkbox\" checked><label for=\"sk-estimator-id-14\" class=\"sk-toggleable__label sk-toggleable__label-arrow\">SVC</label><div class=\"sk-toggleable__content\"><pre>SVC()</pre></div></div></div></div></div>"
      ],
      "text/plain": [
       "SVC()"
      ]
     },
     "execution_count": 113,
     "metadata": {},
     "output_type": "execute_result"
    }
   ],
   "source": [
    "from sklearn.svm import SVC\n",
    "\n",
    "# lo primero es crear el objeto scv, como siempre, y hacer fit (ajustarlo a nuestros datos)\n",
    "svc = SVC()\n",
    "svc.fit(X_train,y_train)\n"
   ]
  },
  {
   "attachments": {},
   "cell_type": "markdown",
   "metadata": {},
   "source": [
    "* Vamos a mostrar algunos resultados : "
   ]
  },
  {
   "cell_type": "code",
   "execution_count": 114,
   "metadata": {},
   "outputs": [
    {
     "name": "stdout",
     "output_type": "stream",
     "text": [
      "Predicciones del modelo: [0 3 9 9 4 3 3 2 2] \n",
      "Resultados esperados: [0 3 9 9 4 3 3 2 2]\n",
      "\n",
      "Puntuación sobre cjto de entrenamiento: 99.582 %\n",
      "\n",
      "Puntuación sobre cjto de prueba: 99.444 %\n",
      "\n"
     ]
    }
   ],
   "source": [
    "imprime_predicciones(X_train,X_test,y_train,y_test,clasif=svc)"
   ]
  },
  {
   "attachments": {},
   "cell_type": "markdown",
   "metadata": {},
   "source": [
    "Obtenemos un buen rendimiento, en mi caso tenemos una puntuación del 95% en el conjunto de prueba, vamos a probar a evaluarlo con validacion cruzada: "
   ]
  },
  {
   "cell_type": "code",
   "execution_count": 115,
   "metadata": {},
   "outputs": [
    {
     "name": "stdout",
     "output_type": "stream",
     "text": [
      "Puntuaciones obtenidas en cada pliegue(fold):  [0.96111111 0.94444444 0.98328691 0.98885794 0.93871866]\n",
      "Puntuación media obtenida:  0.9632838130609718\n"
     ]
    }
   ],
   "source": [
    "scores = cross_val_score(svc,X_digitos,y_digitos,cv=5)\n",
    "\n",
    "print(\"Puntuaciones obtenidas en cada pliegue(fold): \",scores)\n",
    "print(\"Puntuación media obtenida: \", scores.mean())"
   ]
  },
  {
   "attachments": {},
   "cell_type": "markdown",
   "metadata": {},
   "source": [
    "Ahora vamos a intentar optimizarlos hiperparámetros con `GridSearchCV`, para ello primero tenemos que entenderlos: "
   ]
  },
  {
   "cell_type": "code",
   "execution_count": 116,
   "metadata": {},
   "outputs": [
    {
     "name": "stdout",
     "output_type": "stream",
     "text": [
      "{'C': 1.0, 'break_ties': False, 'cache_size': 200, 'class_weight': None, 'coef0': 0.0, 'decision_function_shape': 'ovr', 'degree': 3, 'gamma': 'scale', 'kernel': 'rbf', 'max_iter': -1, 'probability': False, 'random_state': None, 'shrinking': True, 'tol': 0.001, 'verbose': False}\n"
     ]
    }
   ],
   "source": [
    "print(svc.get_params())"
   ]
  },
  {
   "attachments": {},
   "cell_type": "markdown",
   "metadata": {},
   "source": [
    "Una vez más, son bastantes, nos vamos a limitar a algunos de los más importantes: \n",
    "* `Kernel` : Como sabemos, el kernel permite aprender una frontera de decision no lineal, es uno de los parámetros más importantes\n",
    "\n",
    "* `C` : la regularización del modelo, esto controla lo complejo que se vuelve el modelo penalizandolo a más complejo se vuelve, cuanto lo penaliza, es lo que controlamos con este parámetro\n",
    "\n",
    "* `gamma`: controla la frontera de decisión, un valor bajo proporciona una frontera suave, y uno más algo una frontera más ajustada."
   ]
  },
  {
   "cell_type": "code",
   "execution_count": 117,
   "metadata": {},
   "outputs": [
    {
     "name": "stdout",
     "output_type": "stream",
     "text": [
      "Mejores parámetros: {'C': 0.1, 'gamma': 0.1, 'kernel': 'poly'}\n",
      "\n",
      "Mejor puntaje: 0.96884246363355\n"
     ]
    }
   ],
   "source": [
    "# diccionario de parámetros, los valores dados a cada clave (parametro) son de ejemplo\n",
    "# para que GridSearchCV encuentre los mejores, probará todas las combinaciones posibles.\n",
    "params_svc = {\n",
    "    'C': [0.1, 1, 10],\n",
    "    'gamma': [0.1, 1, 10],\n",
    "    'kernel': ['poly','linear','rbf', 'sigmoid']\n",
    "}\n",
    "\n",
    "# creamos el objeto y le hacemos fit para ajustarlo a nuestro clasificador\n",
    "# con cv indicamos los k-folds para la validación cruzada.\n",
    "grid_search = GridSearchCV(svc, param_grid=params_svc, cv=5)\n",
    "grid_search.fit(X_digitos, y_digitos)\n",
    "\n",
    "# Imprimimos los mejores parámetros y el puntaje de la mejor combinación\n",
    "print(\"Mejores parámetros:\", grid_search.best_params_)\n",
    "print(\"\\nMejor puntaje:\", grid_search.best_score_)"
   ]
  },
  {
   "attachments": {},
   "cell_type": "markdown",
   "metadata": {},
   "source": [
    "Podemos reutilizar las funciones anteriores, y mostrar ejemplos bien y mal clasificados para el clasificador `svc`"
   ]
  },
  {
   "cell_type": "code",
   "execution_count": 118,
   "metadata": {},
   "outputs": [
    {
     "data": {
      "image/png": "[encoded data removed]",
      "text/plain": [
       "<Figure size 1000x500 with 30 Axes>"
      ]
     },
     "metadata": {},
     "output_type": "display_data"
    }
   ],
   "source": [
    "muestra_predicciones(3,clasif=svc) "
   ]
  },
  {
   "cell_type": "code",
   "execution_count": 119,
   "metadata": {},
   "outputs": [
    {
     "name": "stdout",
     "output_type": "stream",
     "text": [
      "No hay ejemplos mal clasificados para la clase dada.\n",
      "Mostrando sólo un Ejemplo bien clasificado\n"
     ]
    },
    {
     "data": {
      "image/png": "[encoded data removed]",
      "text/plain": [
       "<Figure size 640x480 with 1 Axes>"
      ]
     },
     "metadata": {},
     "output_type": "display_data"
    }
   ],
   "source": [
    "muestra_un_digito(3,clasif=svc)"
   ]
  },
  {
   "attachments": {},
   "cell_type": "markdown",
   "metadata": {},
   "source": [
    "### Metricas\n",
    "\n",
    "vamos a comprobar la matriz de confusión, y las métricas: "
   ]
  },
  {
   "cell_type": "code",
   "execution_count": 120,
   "metadata": {},
   "outputs": [
    {
     "name": "stdout",
     "output_type": "stream",
     "text": [
      "[[34  0  0  0  0  0  0  0  0  0]\n",
      " [ 0 36  0  0  0  0  0  0  0  0]\n",
      " [ 0  0 44  0  0  0  0  0  0  0]\n",
      " [ 0  0  0 30  0  0  0  0  0  0]\n",
      " [ 0  0  0  0 34  0  0  0  0  0]\n",
      " [ 0  0  0  0  0 45  0  0  0  0]\n",
      " [ 0  0  0  0  0  0 34  0  0  0]\n",
      " [ 0  0  0  0  0  0  0 31  0  0]\n",
      " [ 0  0  0  0  0  0  0  0 41  1]\n",
      " [ 0  0  0  0  0  0  0  0  1 29]]\n"
     ]
    }
   ],
   "source": [
    "cm = confusion_matrix(y_test,svc.predict(X_test))\n",
    "print(cm)"
   ]
  },
  {
   "cell_type": "code",
   "execution_count": 121,
   "metadata": {},
   "outputs": [
    {
     "name": "stdout",
     "output_type": "stream",
     "text": [
      "              precision    recall  f1-score   support\n",
      "\n",
      "           0       1.00      1.00      1.00        34\n",
      "           1       1.00      1.00      1.00        36\n",
      "           2       1.00      1.00      1.00        44\n",
      "           3       1.00      1.00      1.00        30\n",
      "           4       1.00      1.00      1.00        34\n",
      "           5       1.00      1.00      1.00        45\n",
      "           6       1.00      1.00      1.00        34\n",
      "           7       1.00      1.00      1.00        31\n",
      "           8       0.98      0.98      0.98        42\n",
      "           9       0.97      0.97      0.97        30\n",
      "\n",
      "    accuracy                           0.99       360\n",
      "   macro avg       0.99      0.99      0.99       360\n",
      "weighted avg       0.99      0.99      0.99       360\n",
      "\n"
     ]
    }
   ],
   "source": [
    "print(classification_report(y_test, svc.predict(X_test)))"
   ]
  },
  {
   "attachments": {},
   "cell_type": "markdown",
   "metadata": {},
   "source": [
    "En mi caso: \n",
    "\n",
    "        [[28  0  0  0  0  0  0  0  0  0]\n",
    "         [ 0 42  0  0  0  0  0  0  0  0]\n",
    "         [ 0  0 31  0  0  0  0  0  0  0]\n",
    "         [ 0  0  1 34  0  0  0  0  0  0]\n",
    "         [ 0  0  0  0 35  0  0  0  0  2]\n",
    "         [ 0  0  0  0  0 37  0  0  0  1]\n",
    "         [ 0  0  0  0  0  0 31  0  1  0]\n",
    "         [ 0  0  0  0  0  0  0 37  0  0]\n",
    "         [ 0  3  0  0  0  0  0  0 33  0]\n",
    "         [ 0  0  0  0  0  0  0  0  0 44]]\n",
    "\n",
    "\n",
    "                  precision    recall  f1-score   support\n",
    "\n",
    "               0       1.00      1.00      1.00        28\n",
    "               1       0.93      1.00      0.97        42\n",
    "               2       0.97      1.00      0.98        31\n",
    "               3       1.00      0.97      0.99        35\n",
    "               4       1.00      0.95      0.97        37\n",
    "               5       1.00      0.97      0.99        38\n",
    "               6       1.00      0.97      0.98        32\n",
    "               7       1.00      1.00      1.00        37\n",
    "               8       0.97      0.92      0.94        36\n",
    "               9       0.94      1.00      0.97        44\n",
    "\n",
    "        accuracy                           0.98       360\n",
    "       macro avg       0.98      0.98      0.98       360\n",
    "    weighted avg       0.98      0.98      0.98       360\n",
    "\n",
    "\n",
    "\n",
    "\n",
    "Las métricas son similares a las obtenidas con el clasificador RandomForest, si bien parece que tiende más a equivocarse en clases concretas (por ejemplo, 3 de clase 8 clasificados como clase 2)\n",
    "\n",
    "Vamos a comprobar un clasificador binario para esos dos dígitos: "
   ]
  },
  {
   "cell_type": "code",
   "execution_count": 122,
   "metadata": {},
   "outputs": [
    {
     "name": "stdout",
     "output_type": "stream",
     "text": [
      "--- Puntuación sobre cjto de entrenamiento: 99.582 %\n",
      "\n",
      "--- Puntuación sobre cjto de prueba: 99.444 %\n",
      "\n",
      "--- Matriz de confusión del clasificador binario para los dígitos 8 y 4\n",
      "\n",
      " [[38  0]\n",
      " [ 0 33]]\n",
      "\n",
      "--- Informe de clasificación del clasificador RandomForest binario\n",
      "\n",
      "               precision    recall  f1-score   support\n",
      "\n",
      "           4       1.00      1.00      1.00        38\n",
      "           8       1.00      1.00      1.00        33\n",
      "\n",
      "    accuracy                           1.00        71\n",
      "   macro avg       1.00      1.00      1.00        71\n",
      "weighted avg       1.00      1.00      1.00        71\n",
      "\n"
     ]
    }
   ],
   "source": [
    "clasif_binario(8,4,clasif=svc)"
   ]
  },
  {
   "attachments": {},
   "cell_type": "markdown",
   "metadata": {},
   "source": [
    "Ahora suele equivocarse poco o nada, más o menos como con el caso del Random Forest.\n",
    "\n",
    "---"
   ]
  },
  {
   "attachments": {},
   "cell_type": "markdown",
   "metadata": {},
   "source": [
    "## 3. Conjunto de Datos Adicional: SMS spam collection\n",
    "\n",
    "Como segundo conjunto de datos he seleccionado del repositorio UCI el dataset de [Spam en mensajes SMS](https://archive-beta.ics.uci.edu/dataset/228/sms+spam+collection), en el dataset cada línea indica un mensaje sms, y si es spam o no.\n",
    "\n"
   ]
  },
  {
   "attachments": {},
   "cell_type": "markdown",
   "metadata": {},
   "source": [
    "### Exploracion preliminar\n",
    "\n",
    "Lo primero que haremos será analizar un poco el Dataset, como hemos hecho antes con el de dígitos manuscritos:\n",
    "\n",
    "* **Dos Clases**, spam o ham, es decir, si es spam o no, por tanto podemos definirlo como un problema de clasificacion binaria\n",
    "\n",
    "* Hay muchos más mensajes no spam que spam en el dataset, por lo que **está desbalanceado** algo que deberemos tener en cuenta a la hora de entrenar el modelo.\n",
    "\n",
    "* Entrenaremos al modelo para discernir si un mensaje sms es spam o no"
   ]
  },
  {
   "cell_type": "code",
   "execution_count": 123,
   "metadata": {},
   "outputs": [
    {
     "name": "stdout",
     "output_type": "stream",
     "text": [
      "--- Numero de filas y Columnas del conjunto de datos: \n",
      "\n",
      " (5572, 2)\n",
      "\n",
      "--- Posibles valores de clasificación, y cuántos hay en el dataset:\n",
      "\n",
      " ham     4825\n",
      "spam     747\n",
      "Name: clase, dtype: int64\n",
      "\n",
      "--- Algunos ejemplos del dataset:\n",
      "\n",
      "   clase                                              texto\n",
      "0   ham  Go until jurong point, crazy.. Available only ...\n",
      "1   ham                      Ok lar... Joking wif u oni...\n",
      "2  spam  Free entry in 2 a wkly comp to win FA Cup fina...\n",
      "3   ham  U dun say so early hor... U c already then say...\n",
      "4   ham  Nah I don't think he goes to usf, he lives aro...\n",
      "\n",
      "--- Un ejemplo Concreto:\n",
      "\n",
      " ham\n",
      "Go until jurong point, crazy.. Available only in bugis n great world la e buffet... Cine there got amore wat...\n"
     ]
    }
   ],
   "source": [
    "import pandas as pd\n",
    "\n",
    "\n",
    "# Cargamos el dataset en un dataframe de pandas, y le damos nombre a las columnas (el valor de clasificacion real, y el mensaje)\n",
    "df = pd.read_table(\"SMSSpamCollection\",names=[\"clase\",\"texto\"], header=None, encoding='utf-8')\n",
    "\n",
    "print(\"--- Numero de filas y Columnas del conjunto de datos: \\n\\n\",df.shape)\n",
    "\n",
    "# con la clave \"clase\" obtenemos solo los valores de esa columna, y value_counts() devuelve los valores\n",
    "# unicos que haya en la columna, es decir, los valores de clasificacion reales de cada ejemplo\n",
    "print(\"\\n--- Posibles valores de clasificación, y cuántos hay en el dataset:\\n\\n\",df[\"clase\"].value_counts())\n",
    "print(\"\\n--- Algunos ejemplos del dataset:\\n\\n\",df.head())\n",
    "\n",
    "# con iloc podemos acceder al datafram utilizando indices de fila y columna, luego podemos escoger lo que queramos\n",
    "# utilizando su clave\n",
    "print(\"\\n--- Un ejemplo Concreto:\\n\\n {0}\\n{1}\".format(df.iloc[0][\"clase\"], df.iloc[0][\"texto\"]))"
   ]
  },
  {
   "attachments": {},
   "cell_type": "markdown",
   "metadata": {},
   "source": [
    "Para trabajar con el conjunto de datos en `Scikit-Learn` crearemos variables con la columna de textos, es decir, las caracteristicas de los mensajes, y en otra guardaremos los valores de clasificacion reales.\n",
    "\n",
    "* Una vez hecho esto podemos dividir el conjunto de datos en entrenamiento y prueba con `train_test_split()`, por ejemplo, aunque para un conjunto de datos desbalanceado como este, en principio **sería mejor emplear validación cruzada**, lo haremos de las dos formas y compararemos lo obtenido."
   ]
  },
  {
   "cell_type": "code",
   "execution_count": 124,
   "metadata": {},
   "outputs": [],
   "source": [
    "X_spam = df[\"texto\"]\n",
    "y_spam = df[\"clase\"]\n",
    "\n",
    "# dejamos un 20% del conjunto de datos para prueba, con random_state aseguramos que se puedan\n",
    "# reproducir los resultados\n",
    "X_train_spam, X_test_spam, y_train_spam, y_test_spam = train_test_split(X_spam,y_spam,test_size=0.2, random_state=30)"
   ]
  },
  {
   "attachments": {},
   "cell_type": "markdown",
   "metadata": {},
   "source": [
    "### Vectorizadores\n",
    "\n",
    "No podemos trabajar directamente sobre textos, para poder utilizar los clasificadores de `Scikit-Learn` debemos representar estos como vectores numéricos, una de las formas más fáciles de hacerlo es representar la frecuencia de términos una vez fijado el vocabulario, podemos hacerlo con `CountVectorizer`\n",
    "\n",
    "* `CountVectorizer` puede usarse en modo binario (si un termino aparece o no) o contando ocurrencias de palabras, que es el que emplearemos ahora."
   ]
  },
  {
   "cell_type": "code",
   "execution_count": 125,
   "metadata": {},
   "outputs": [
    {
     "data": {
      "text/html": [
       "<style>#sk-container-id-15 {color: black;background-color: white;}#sk-container-id-15 pre{padding: 0;}#sk-container-id-15 div.sk-toggleable {background-color: white;}#sk-container-id-15 label.sk-toggleable__label {cursor: pointer;display: block;width: 100%;margin-bottom: 0;padding: 0.3em;box-sizing: border-box;text-align: center;}#sk-container-id-15 label.sk-toggleable__label-arrow:before {content: \"▸\";float: left;margin-right: 0.25em;color: #696969;}#sk-container-id-15 label.sk-toggleable__label-arrow:hover:before {color: black;}#sk-container-id-15 div.sk-estimator:hover label.sk-toggleable__label-arrow:before {color: black;}#sk-container-id-15 div.sk-toggleable__content {max-height: 0;max-width: 0;overflow: hidden;text-align: left;background-color: #f0f8ff;}#sk-container-id-15 div.sk-toggleable__content pre {margin: 0.2em;color: black;border-radius: 0.25em;background-color: #f0f8ff;}#sk-container-id-15 input.sk-toggleable__control:checked~div.sk-toggleable__content {max-height: 200px;max-width: 100%;overflow: auto;}#sk-container-id-15 input.sk-toggleable__control:checked~label.sk-toggleable__label-arrow:before {content: \"▾\";}#sk-container-id-15 div.sk-estimator input.sk-toggleable__control:checked~label.sk-toggleable__label {background-color: #d4ebff;}#sk-container-id-15 div.sk-label input.sk-toggleable__control:checked~label.sk-toggleable__label {background-color: #d4ebff;}#sk-container-id-15 input.sk-hidden--visually {border: 0;clip: rect(1px 1px 1px 1px);clip: rect(1px, 1px, 1px, 1px);height: 1px;margin: -1px;overflow: hidden;padding: 0;position: absolute;width: 1px;}#sk-container-id-15 div.sk-estimator {font-family: monospace;background-color: #f0f8ff;border: 1px dotted black;border-radius: 0.25em;box-sizing: border-box;margin-bottom: 0.5em;}#sk-container-id-15 div.sk-estimator:hover {background-color: #d4ebff;}#sk-container-id-15 div.sk-parallel-item::after {content: \"\";width: 100%;border-bottom: 1px solid gray;flex-grow: 1;}#sk-container-id-15 div.sk-label:hover label.sk-toggleable__label {background-color: #d4ebff;}#sk-container-id-15 div.sk-serial::before {content: \"\";position: absolute;border-left: 1px solid gray;box-sizing: border-box;top: 0;bottom: 0;left: 50%;z-index: 0;}#sk-container-id-15 div.sk-serial {display: flex;flex-direction: column;align-items: center;background-color: white;padding-right: 0.2em;padding-left: 0.2em;position: relative;}#sk-container-id-15 div.sk-item {position: relative;z-index: 1;}#sk-container-id-15 div.sk-parallel {display: flex;align-items: stretch;justify-content: center;background-color: white;position: relative;}#sk-container-id-15 div.sk-item::before, #sk-container-id-15 div.sk-parallel-item::before {content: \"\";position: absolute;border-left: 1px solid gray;box-sizing: border-box;top: 0;bottom: 0;left: 50%;z-index: -1;}#sk-container-id-15 div.sk-parallel-item {display: flex;flex-direction: column;z-index: 1;position: relative;background-color: white;}#sk-container-id-15 div.sk-parallel-item:first-child::after {align-self: flex-end;width: 50%;}#sk-container-id-15 div.sk-parallel-item:last-child::after {align-self: flex-start;width: 50%;}#sk-container-id-15 div.sk-parallel-item:only-child::after {width: 0;}#sk-container-id-15 div.sk-dashed-wrapped {border: 1px dashed gray;margin: 0 0.4em 0.5em 0.4em;box-sizing: border-box;padding-bottom: 0.4em;background-color: white;}#sk-container-id-15 div.sk-label label {font-family: monospace;font-weight: bold;display: inline-block;line-height: 1.2em;}#sk-container-id-15 div.sk-label-container {text-align: center;}#sk-container-id-15 div.sk-container {/* jupyter's `normalize.less` sets `[hidden] { display: none; }` but bootstrap.min.css set `[hidden] { display: none !important; }` so we also need the `!important` here to be able to override the default hidden behavior on the sphinx rendered scikit-learn.org. See: https://github.com/scikit-learn/scikit-learn/issues/21755 */display: inline-block !important;position: relative;}#sk-container-id-15 div.sk-text-repr-fallback {display: none;}</style><div id=\"sk-container-id-15\" class=\"sk-top-container\"><div class=\"sk-text-repr-fallback\"><pre>CountVectorizer()</pre><b>In a Jupyter environment, please rerun this cell to show the HTML representation or trust the notebook. <br />On GitHub, the HTML representation is unable to render, please try loading this page with nbviewer.org.</b></div><div class=\"sk-container\" hidden><div class=\"sk-item\"><div class=\"sk-estimator sk-toggleable\"><input class=\"sk-toggleable__control sk-hidden--visually\" id=\"sk-estimator-id-15\" type=\"checkbox\" checked><label for=\"sk-estimator-id-15\" class=\"sk-toggleable__label sk-toggleable__label-arrow\">CountVectorizer</label><div class=\"sk-toggleable__content\"><pre>CountVectorizer()</pre></div></div></div></div></div>"
      ],
      "text/plain": [
       "CountVectorizer()"
      ]
     },
     "execution_count": 125,
     "metadata": {},
     "output_type": "execute_result"
    }
   ],
   "source": [
    "from sklearn.feature_extraction.text import CountVectorizer\n",
    "\n",
    "# Creamos el objeto vectorizador y lo ajustamos con fit al corpus de nuestros mensajes\n",
    "vect = CountVectorizer()\n",
    "vect.fit(X_train_spam)"
   ]
  },
  {
   "attachments": {},
   "cell_type": "markdown",
   "metadata": {},
   "source": [
    "* Podemos mostrar algunos datos del vocabulario:"
   ]
  },
  {
   "cell_type": "code",
   "execution_count": 126,
   "metadata": {},
   "outputs": [
    {
     "name": "stdout",
     "output_type": "stream",
     "text": [
      "Tamaño del vocabulario: 7827\n",
      "Algunos ejemplos del vocabulario:\n",
      " [('today', 7001), ('is', 3800), ('sorry', 6398), ('day', 2214), ('if', 3653), ('ever', 2706), ('was', 7465), ('angry', 994), ('with', 7625)]\n"
     ]
    }
   ],
   "source": [
    "print(\"Tamaño del vocabulario: {0}\".format(len(vect.vocabulary_)))\n",
    "\n",
    "# El vocabulario es un diccionario tipo {palabra:apariciones} podemos mostrarlo entero pero es muy grande, por eso con items()\n",
    "# obtenemos una lista de tuplas con las claves y los valores, escojo los 10 primeros.\n",
    "print(\"Algunos ejemplos del vocabulario:\\n {0}\".format(list(vect.vocabulary_.items())[:9]))"
   ]
  },
  {
   "attachments": {},
   "cell_type": "markdown",
   "metadata": {},
   "source": [
    "* Tenemos que convertir nuestros conjuntos de entrenamiento y prueba en las matrices de frecuencia de términos, que es realmente con lo que trabajará el clasificador, para ello empleamos `transform`"
   ]
  },
  {
   "cell_type": "code",
   "execution_count": 127,
   "metadata": {},
   "outputs": [],
   "source": [
    "# Ahora tenemos que transformar nuestros conjuntos de entrenamiento y prueba \n",
    "# en dichas matrices de frecuencia de términos\n",
    "X_train_spam_vect = vect.transform(X_train_spam)\n",
    "X_test_spam_vect = vect.transform(X_test_spam)"
   ]
  },
  {
   "attachments": {},
   "cell_type": "markdown",
   "metadata": {},
   "source": [
    "Ahora podemos utilizar el clasificador `RandomForestClassifier`, o cualquier otro, podríamos utilizar el que ya creamos arriba para el conjunto de datos de digitos manuscritos, pero evidentemente tendremos que hacer **fit()** con los nuevos datos antes de utilizarlo."
   ]
  },
  {
   "cell_type": "code",
   "execution_count": 128,
   "metadata": {},
   "outputs": [
    {
     "data": {
      "text/html": [
       "<style>#sk-container-id-16 {color: black;background-color: white;}#sk-container-id-16 pre{padding: 0;}#sk-container-id-16 div.sk-toggleable {background-color: white;}#sk-container-id-16 label.sk-toggleable__label {cursor: pointer;display: block;width: 100%;margin-bottom: 0;padding: 0.3em;box-sizing: border-box;text-align: center;}#sk-container-id-16 label.sk-toggleable__label-arrow:before {content: \"▸\";float: left;margin-right: 0.25em;color: #696969;}#sk-container-id-16 label.sk-toggleable__label-arrow:hover:before {color: black;}#sk-container-id-16 div.sk-estimator:hover label.sk-toggleable__label-arrow:before {color: black;}#sk-container-id-16 div.sk-toggleable__content {max-height: 0;max-width: 0;overflow: hidden;text-align: left;background-color: #f0f8ff;}#sk-container-id-16 div.sk-toggleable__content pre {margin: 0.2em;color: black;border-radius: 0.25em;background-color: #f0f8ff;}#sk-container-id-16 input.sk-toggleable__control:checked~div.sk-toggleable__content {max-height: 200px;max-width: 100%;overflow: auto;}#sk-container-id-16 input.sk-toggleable__control:checked~label.sk-toggleable__label-arrow:before {content: \"▾\";}#sk-container-id-16 div.sk-estimator input.sk-toggleable__control:checked~label.sk-toggleable__label {background-color: #d4ebff;}#sk-container-id-16 div.sk-label input.sk-toggleable__control:checked~label.sk-toggleable__label {background-color: #d4ebff;}#sk-container-id-16 input.sk-hidden--visually {border: 0;clip: rect(1px 1px 1px 1px);clip: rect(1px, 1px, 1px, 1px);height: 1px;margin: -1px;overflow: hidden;padding: 0;position: absolute;width: 1px;}#sk-container-id-16 div.sk-estimator {font-family: monospace;background-color: #f0f8ff;border: 1px dotted black;border-radius: 0.25em;box-sizing: border-box;margin-bottom: 0.5em;}#sk-container-id-16 div.sk-estimator:hover {background-color: #d4ebff;}#sk-container-id-16 div.sk-parallel-item::after {content: \"\";width: 100%;border-bottom: 1px solid gray;flex-grow: 1;}#sk-container-id-16 div.sk-label:hover label.sk-toggleable__label {background-color: #d4ebff;}#sk-container-id-16 div.sk-serial::before {content: \"\";position: absolute;border-left: 1px solid gray;box-sizing: border-box;top: 0;bottom: 0;left: 50%;z-index: 0;}#sk-container-id-16 div.sk-serial {display: flex;flex-direction: column;align-items: center;background-color: white;padding-right: 0.2em;padding-left: 0.2em;position: relative;}#sk-container-id-16 div.sk-item {position: relative;z-index: 1;}#sk-container-id-16 div.sk-parallel {display: flex;align-items: stretch;justify-content: center;background-color: white;position: relative;}#sk-container-id-16 div.sk-item::before, #sk-container-id-16 div.sk-parallel-item::before {content: \"\";position: absolute;border-left: 1px solid gray;box-sizing: border-box;top: 0;bottom: 0;left: 50%;z-index: -1;}#sk-container-id-16 div.sk-parallel-item {display: flex;flex-direction: column;z-index: 1;position: relative;background-color: white;}#sk-container-id-16 div.sk-parallel-item:first-child::after {align-self: flex-end;width: 50%;}#sk-container-id-16 div.sk-parallel-item:last-child::after {align-self: flex-start;width: 50%;}#sk-container-id-16 div.sk-parallel-item:only-child::after {width: 0;}#sk-container-id-16 div.sk-dashed-wrapped {border: 1px dashed gray;margin: 0 0.4em 0.5em 0.4em;box-sizing: border-box;padding-bottom: 0.4em;background-color: white;}#sk-container-id-16 div.sk-label label {font-family: monospace;font-weight: bold;display: inline-block;line-height: 1.2em;}#sk-container-id-16 div.sk-label-container {text-align: center;}#sk-container-id-16 div.sk-container {/* jupyter's `normalize.less` sets `[hidden] { display: none; }` but bootstrap.min.css set `[hidden] { display: none !important; }` so we also need the `!important` here to be able to override the default hidden behavior on the sphinx rendered scikit-learn.org. See: https://github.com/scikit-learn/scikit-learn/issues/21755 */display: inline-block !important;position: relative;}#sk-container-id-16 div.sk-text-repr-fallback {display: none;}</style><div id=\"sk-container-id-16\" class=\"sk-top-container\"><div class=\"sk-text-repr-fallback\"><pre>RandomForestClassifier(random_state=20)</pre><b>In a Jupyter environment, please rerun this cell to show the HTML representation or trust the notebook. <br />On GitHub, the HTML representation is unable to render, please try loading this page with nbviewer.org.</b></div><div class=\"sk-container\" hidden><div class=\"sk-item\"><div class=\"sk-estimator sk-toggleable\"><input class=\"sk-toggleable__control sk-hidden--visually\" id=\"sk-estimator-id-16\" type=\"checkbox\" checked><label for=\"sk-estimator-id-16\" class=\"sk-toggleable__label sk-toggleable__label-arrow\">RandomForestClassifier</label><div class=\"sk-toggleable__content\"><pre>RandomForestClassifier(random_state=20)</pre></div></div></div></div></div>"
      ],
      "text/plain": [
       "RandomForestClassifier(random_state=20)"
      ]
     },
     "execution_count": 128,
     "metadata": {},
     "output_type": "execute_result"
    }
   ],
   "source": [
    "rfc = RandomForestClassifier(n_estimators=100,random_state=20)\n",
    "rfc.fit(X_train_spam_vect,y_train_spam)"
   ]
  },
  {
   "attachments": {},
   "cell_type": "markdown",
   "metadata": {},
   "source": [
    "* mostramos sus resultados con la función que habíamos creado arriba para el anterior dataset: "
   ]
  },
  {
   "cell_type": "code",
   "execution_count": 129,
   "metadata": {},
   "outputs": [
    {
     "name": "stdout",
     "output_type": "stream",
     "text": [
      "Predicciones del modelo: ['ham' 'ham' 'ham' 'ham' 'ham' 'ham' 'spam' 'ham' 'ham'] \n",
      "Resultados esperados: ['ham' 'ham' 'ham' 'ham' 'ham' 'ham' 'spam' 'ham' 'ham']\n",
      "\n",
      "Puntuación sobre cjto de entrenamiento: 100.0 %\n",
      "\n",
      "Puntuación sobre cjto de prueba: 97.399 %\n",
      "\n"
     ]
    }
   ],
   "source": [
    "imprime_predicciones(X_train_spam_vect,X_test_spam_vect,y_train_spam,y_test_spam,clasif=rfc)"
   ]
  },
  {
   "attachments": {},
   "cell_type": "markdown",
   "metadata": {},
   "source": [
    "* Como podemos observar obtenemos muy buenos resultados para el conjunto de prueba de entre un 95-97% usualmente, podemos hacer un análisis similar del rendimiento según el número de árboles como hicimos con el anterior dataset:"
   ]
  },
  {
   "cell_type": "code",
   "execution_count": 130,
   "metadata": {},
   "outputs": [
    {
     "data": {
      "image/png": "[encoded data removed]",
      "text/plain": [
       "<Figure size 640x480 with 1 Axes>"
      ]
     },
     "metadata": {},
     "output_type": "display_data"
    }
   ],
   "source": [
    "dibuja_arboles(X_train_spam_vect,X_test_spam_vect,y_train_spam,y_test_spam)"
   ]
  },
  {
   "attachments": {},
   "cell_type": "markdown",
   "metadata": {},
   "source": [
    "Vamos a probar a evaluar por validación cruzada.\n",
    "* Ahora trabajamos con todo el conjunto de datos, tenemos que vectorizar `X_spam`:"
   ]
  },
  {
   "cell_type": "code",
   "execution_count": 131,
   "metadata": {},
   "outputs": [
    {
     "name": "stdout",
     "output_type": "stream",
     "text": [
      "Puntuaciones obtenidas en cada pliegue(fold):  [0.97757848 0.9793722  0.97486535 0.96947935 0.97755835]\n",
      "Puntuación media obtenida:  0.9757707449420744\n"
     ]
    }
   ],
   "source": [
    "X_spam_vect = vect.transform(X_spam)\n",
    "scores_spam = cross_val_score(rfc,X_spam_vect,y_spam,cv=5)\n",
    "\n",
    "print(\"Puntuaciones obtenidas en cada pliegue(fold): \",scores_spam)\n",
    "print(\"Puntuación media obtenida: \", scores_spam.mean())"
   ]
  },
  {
   "attachments": {},
   "cell_type": "markdown",
   "metadata": {},
   "source": [
    "Con grid search podemos hacer una búsqueda exhaustiva de los mejores hiperparámetros, como hicimos con el dataset anterior :"
   ]
  },
  {
   "cell_type": "code",
   "execution_count": 132,
   "metadata": {},
   "outputs": [
    {
     "name": "stdout",
     "output_type": "stream",
     "text": [
      "Mejores parámetros: {'max_depth': None, 'max_features': 'sqrt', 'min_samples_leaf': 1, 'min_samples_split': 5, 'n_estimators': 40}\n",
      "\n",
      "Mejor puntaje: 0.9764397839883638\n"
     ]
    }
   ],
   "source": [
    "# creamos el objeto y le hacemos fit para ajustarlo a nuestro clasificador\n",
    "# con cv indicamos los k-folds para la validación cruzada.\n",
    "grid_search_spam = GridSearchCV(rfc, param_grid=params, cv=5)\n",
    "grid_search_spam.fit(X_train_spam_vect, y_train_spam)\n",
    "\n",
    "# Imprimimos los mejores parámetros y el puntaje de la mejor combinación\n",
    "print(\"Mejores parámetros:\", grid_search_spam.best_params_)\n",
    "print(\"\\nMejor puntaje:\", grid_search_spam.best_score_)"
   ]
  },
  {
   "attachments": {},
   "cell_type": "markdown",
   "metadata": {},
   "source": [
    "Ahora vamos a ver los ejemplos en los que se ha equivocado, donde observamos algo interesante:"
   ]
  },
  {
   "cell_type": "code",
   "execution_count": 133,
   "metadata": {},
   "outputs": [
    {
     "name": "stdout",
     "output_type": "stream",
     "text": [
      "Ejemplo mal clasificado: \n",
      "\n",
      "Dorothy@kiefer.com (Bank of Granite issues Strong-Buy) EXPLOSIVE PICK FOR OUR MEMBERS *****UP OVER 300% *********** Nasdaq Symbol CDGT That is a $5.00 per..\n",
      "\n",
      "Valor real: spam\n",
      "Prediccion: ham\n",
      "Ejemplo mal clasificado: \n",
      "\n",
      "LookAtMe!: Thanks for your purchase of a video clip from LookAtMe!, you've been charged 35p. Think you can do better? Why not send a video in a MMSto 32323.\n",
      "\n",
      "Valor real: spam\n",
      "Prediccion: ham\n",
      "Ejemplo mal clasificado: \n",
      "\n",
      "Free Msg: get Gnarls Barkleys \"Crazy\" ringtone TOTALLY FREE just reply GO to this message right now!\n",
      "\n",
      "Valor real: spam\n",
      "Prediccion: ham\n",
      "Ejemplo mal clasificado: \n",
      "\n",
      "Twinks, bears, scallies, skins and jocks are calling now. Don't miss the weekend's fun. Call 08712466669 at 10p/min. 2 stop texts call 08712460324(nat rate)\n",
      "\n",
      "Valor real: spam\n",
      "Prediccion: ham\n",
      "Ejemplo mal clasificado: \n",
      "\n",
      "TheMob>Yo yo yo-Here comes a new selection of hot downloads for our members to get for FREE! Just click & open the next link sent to ur fone...\n",
      "\n",
      "Valor real: spam\n",
      "Prediccion: ham\n",
      "Ejemplo mal clasificado: \n",
      "\n",
      "FreeMsg Today's the day if you are ready! I'm horny & live in your town. I love sex fun & games! Netcollex Ltd 08700621170150p per msg reply Stop to end\n",
      "\n",
      "Valor real: spam\n",
      "Prediccion: ham\n",
      "Ejemplo mal clasificado: \n",
      "\n",
      "network operator. The service is free. For T & C's visit 80488.biz\n",
      "\n",
      "Valor real: spam\n",
      "Prediccion: ham\n",
      "Ejemplo mal clasificado: \n",
      "\n",
      "CALL 09090900040 & LISTEN TO EXTREME DIRTY LIVE CHAT GOING ON IN THE OFFICE RIGHT NOW TOTAL PRIVACY NO ONE KNOWS YOUR [sic] LISTENING 60P MIN 24/7MP 0870753331018+\n",
      "\n",
      "Valor real: spam\n",
      "Prediccion: ham\n",
      "Ejemplo mal clasificado: \n",
      "\n",
      "Burger King - Wanna play footy at a top stadium? Get 2 Burger King before 1st Sept and go Large or Super with Coca-Cola and walk out a winner\n",
      "\n",
      "Valor real: spam\n",
      "Prediccion: ham\n",
      "Ejemplo mal clasificado: \n",
      "\n",
      "(Bank of Granite issues Strong-Buy) EXPLOSIVE PICK FOR OUR MEMBERS *****UP OVER 300% *********** Nasdaq Symbol CDGT That is a $5.00 per..\n",
      "\n",
      "Valor real: spam\n",
      "Prediccion: ham\n",
      "Ejemplo mal clasificado: \n",
      "\n",
      "FREE GAME. Get Rayman Golf 4 FREE from the O2 Games Arcade. 1st get UR games settings. Reply POST, then save & activ8. Press 0 key for Arcade. Termsapply\n",
      "\n",
      "Valor real: spam\n",
      "Prediccion: ham\n",
      "Ejemplo mal clasificado: \n",
      "\n",
      "For your chance to WIN a FREE Bluetooth Headset then simply reply back with \"ADP\"\n",
      "\n",
      "Valor real: spam\n",
      "Prediccion: ham\n",
      "Ejemplo mal clasificado: \n",
      "\n",
      "Xmas & New Years Eve tickets are now on sale from the club, during the day from 10am till 8pm, and on Thurs, Fri & Sat night this week. They're selling fast!\n",
      "\n",
      "Valor real: spam\n",
      "Prediccion: ham\n",
      "Ejemplo mal clasificado: \n",
      "\n",
      "This message is brought to you by GMW Ltd. and is not connected to the\n",
      "\n",
      "Valor real: spam\n",
      "Prediccion: ham\n",
      "Ejemplo mal clasificado: \n",
      "\n",
      "Free msg. Sorry, a service you ordered from 81303 could not be delivered as you do not have sufficient credit. Please top up to receive the service.\n",
      "\n",
      "Valor real: spam\n",
      "Prediccion: ham\n",
      "Ejemplo mal clasificado: \n",
      "\n",
      "Call Germany for only 1 pence per minute! Call from a fixed line via access number 0844 861 85 85. No prepayment. Direct access!\n",
      "\n",
      "Valor real: spam\n",
      "Prediccion: ham\n",
      "Ejemplo mal clasificado: \n",
      "\n",
      "3. You have received your mobile content. Enjoy\n",
      "\n",
      "Valor real: spam\n",
      "Prediccion: ham\n",
      "Ejemplo mal clasificado: \n",
      "\n",
      "RCT' THNQ Adrian for U text. Rgds Vatian\n",
      "\n",
      "Valor real: spam\n",
      "Prediccion: ham\n",
      "Ejemplo mal clasificado: \n",
      "\n",
      "Get a brand new mobile phone by being an agent of The Mob! Plus loads more goodies! For more info just text MAT to 87021.\n",
      "\n",
      "Valor real: spam\n",
      "Prediccion: ham\n",
      "Ejemplo mal clasificado: \n",
      "\n",
      "Email AlertFrom: Jeri StewartSize: 2KBSubject: Low-cost prescripiton drvgsTo listen to email call 123\n",
      "\n",
      "Valor real: spam\n",
      "Prediccion: ham\n",
      "Ejemplo mal clasificado: \n",
      "\n",
      "Thanks for the Vote. Now sing along with the stars with Karaoke on your mobile. For a FREE link just reply with SING now.\n",
      "\n",
      "Valor real: spam\n",
      "Prediccion: ham\n",
      "Ejemplo mal clasificado: \n",
      "\n",
      "The current leading bid is 151. To pause this auction send OUT. Customer Care: 08718726270\n",
      "\n",
      "Valor real: spam\n",
      "Prediccion: ham\n",
      "Ejemplo mal clasificado: \n",
      "\n",
      "Good Luck! Draw takes place 28th Feb 06. Good Luck! For removal send STOP to 87239 customer services 08708034412\n",
      "\n",
      "Valor real: spam\n",
      "Prediccion: ham\n",
      "Ejemplo mal clasificado: \n",
      "\n",
      "FreeMsg>FAV XMAS TONES!Reply REAL\n",
      "\n",
      "Valor real: spam\n",
      "Prediccion: ham\n",
      "Ejemplo mal clasificado: \n",
      "\n",
      "RECPT 1/3. You have ordered a Ringtone. Your order is being processed...\n",
      "\n",
      "Valor real: spam\n",
      "Prediccion: ham\n",
      "Ejemplo mal clasificado: \n",
      "\n",
      "INTERFLORA - It's not too late to order Interflora flowers for christmas call 0800 505060 to place your order before Midnight tomorrow.\n",
      "\n",
      "Valor real: spam\n",
      "Prediccion: ham\n",
      "Ejemplo mal clasificado: \n",
      "\n",
      "I'd like to tell you my deepest darkest fantasies. Call me 09094646631 just 60p/min. To stop texts call 08712460324 (nat rate)\n",
      "\n",
      "Valor real: spam\n",
      "Prediccion: ham\n",
      "Ejemplo mal clasificado: \n",
      "\n",
      "Am new 2 club & dont fink we met yet Will B gr8 2 C U Please leave msg 2day wiv ur area 09099726553 reply promised CARLIE x Calls£1/minMobsmore LKPOBOX177HP51FL\n",
      "\n",
      "Valor real: spam\n",
      "Prediccion: ham\n",
      "Ejemplo mal clasificado: \n",
      "\n",
      "FROM 88066 LOST £12 HELP\n",
      "\n",
      "Valor real: spam\n",
      "Prediccion: ham\n"
     ]
    }
   ],
   "source": [
    "predicciones = rfc.predict(X_test_spam_vect)\n",
    "\n",
    "#escogemos los indices de predicicones donde el valor predecido no es el valor real\n",
    "ind_clasif_incorrecto = np.where(predicciones!=y_test_spam)[0]\n",
    "\n",
    "# los mostramos por pantalla, como X_test_spam e Y_test_spam son series de pandas accedemos a ellos con iloc,\n",
    "# si solo ponemos los corchetes lo interpretará como una clave.\n",
    "for i in ind_clasif_incorrecto:\n",
    "    print(\"Ejemplo mal clasificado: \\n\\n{0}\\n\\nValor real: {1}\\nPrediccion: {2}\".format(\n",
    "        X_test_spam.iloc[i],y_test_spam.iloc[i],predicciones[i]))\n",
    "    "
   ]
  },
  {
   "attachments": {},
   "cell_type": "markdown",
   "metadata": {},
   "source": [
    "* también es posible hacer predicciones sobre textos concretos, por ejemplo:"
   ]
  },
  {
   "cell_type": "code",
   "execution_count": 134,
   "metadata": {},
   "outputs": [
    {
     "name": "stdout",
     "output_type": "stream",
     "text": [
      "['spam']\n"
     ]
    }
   ],
   "source": [
    "mensaje = vect.transform([\"Congrats!, You just won the lottery, please claim your prize here!\"])\n",
    "\n",
    "prediccion = rfc.predict(mensaje)\n",
    "print(prediccion)"
   ]
  },
  {
   "attachments": {},
   "cell_type": "markdown",
   "metadata": {},
   "source": [
    "Curiosamente, la inmensa mayoría de las veces (si no todas) que se equivoca, es cuando dice que algo que es spam no lo es, vamos a observar la matriz de confusión : "
   ]
  },
  {
   "cell_type": "code",
   "execution_count": 135,
   "metadata": {},
   "outputs": [
    {
     "name": "stdout",
     "output_type": "stream",
     "text": [
      "[[979   0]\n",
      " [ 29 107]]\n"
     ]
    }
   ],
   "source": [
    "cm = confusion_matrix(y_test_spam, rfc.predict(X_test_spam_vect))\n",
    "print(cm)"
   ]
  },
  {
   "attachments": {},
   "cell_type": "markdown",
   "metadata": {},
   "source": [
    "Con una matriz como esta para mi caso: \n",
    "\n",
    "        [[979   0]\n",
    "         [ 29 107]]\n",
    "\n",
    "Nuestras sospechas se confirman, muy probablemente esto se debe a que el conjunto de datos está desbalanceado, observemos las métricas"
   ]
  },
  {
   "cell_type": "code",
   "execution_count": 136,
   "metadata": {},
   "outputs": [
    {
     "name": "stdout",
     "output_type": "stream",
     "text": [
      "              precision    recall  f1-score   support\n",
      "\n",
      "         ham       0.97      1.00      0.99       979\n",
      "        spam       1.00      0.79      0.88       136\n",
      "\n",
      "    accuracy                           0.97      1115\n",
      "   macro avg       0.99      0.89      0.93      1115\n",
      "weighted avg       0.97      0.97      0.97      1115\n",
      "\n"
     ]
    }
   ],
   "source": [
    "print(classification_report(y_test_spam, rfc.predict(X_test_spam_vect)))"
   ]
  },
  {
   "attachments": {},
   "cell_type": "markdown",
   "metadata": {},
   "source": [
    "Para mi caso: \n",
    "\n",
    "                              precision    recall  f1-score   support\n",
    "\n",
    "                         ham       0.97      1.00      0.99       979\n",
    "                        spam       1.00      0.79      0.88       136\n",
    "\n",
    "                    accuracy                           0.97      1115\n",
    "                   macro avg       0.99      0.89      0.93      1115\n",
    "                weighted avg       0.97      0.97      0.97      1115\n",
    "\n",
    "Tenemos un recall de 0,79 para la clase spam, lo que quiere decir que sólo un 79% de los mensajes de spam fueron clasificados como tal, esto es seguramente, consecuencia de estar trabajando con un conjunto de datos desbalanceado.\n",
    "\n",
    "\n",
    "Bien, ahora podemos probar a vectorizar, pero incluyendo las `stop_words` del inglés incluidas con `sklearn`\n"
   ]
  },
  {
   "cell_type": "code",
   "execution_count": 137,
   "metadata": {},
   "outputs": [
    {
     "data": {
      "text/html": [
       "<style>#sk-container-id-17 {color: black;background-color: white;}#sk-container-id-17 pre{padding: 0;}#sk-container-id-17 div.sk-toggleable {background-color: white;}#sk-container-id-17 label.sk-toggleable__label {cursor: pointer;display: block;width: 100%;margin-bottom: 0;padding: 0.3em;box-sizing: border-box;text-align: center;}#sk-container-id-17 label.sk-toggleable__label-arrow:before {content: \"▸\";float: left;margin-right: 0.25em;color: #696969;}#sk-container-id-17 label.sk-toggleable__label-arrow:hover:before {color: black;}#sk-container-id-17 div.sk-estimator:hover label.sk-toggleable__label-arrow:before {color: black;}#sk-container-id-17 div.sk-toggleable__content {max-height: 0;max-width: 0;overflow: hidden;text-align: left;background-color: #f0f8ff;}#sk-container-id-17 div.sk-toggleable__content pre {margin: 0.2em;color: black;border-radius: 0.25em;background-color: #f0f8ff;}#sk-container-id-17 input.sk-toggleable__control:checked~div.sk-toggleable__content {max-height: 200px;max-width: 100%;overflow: auto;}#sk-container-id-17 input.sk-toggleable__control:checked~label.sk-toggleable__label-arrow:before {content: \"▾\";}#sk-container-id-17 div.sk-estimator input.sk-toggleable__control:checked~label.sk-toggleable__label {background-color: #d4ebff;}#sk-container-id-17 div.sk-label input.sk-toggleable__control:checked~label.sk-toggleable__label {background-color: #d4ebff;}#sk-container-id-17 input.sk-hidden--visually {border: 0;clip: rect(1px 1px 1px 1px);clip: rect(1px, 1px, 1px, 1px);height: 1px;margin: -1px;overflow: hidden;padding: 0;position: absolute;width: 1px;}#sk-container-id-17 div.sk-estimator {font-family: monospace;background-color: #f0f8ff;border: 1px dotted black;border-radius: 0.25em;box-sizing: border-box;margin-bottom: 0.5em;}#sk-container-id-17 div.sk-estimator:hover {background-color: #d4ebff;}#sk-container-id-17 div.sk-parallel-item::after {content: \"\";width: 100%;border-bottom: 1px solid gray;flex-grow: 1;}#sk-container-id-17 div.sk-label:hover label.sk-toggleable__label {background-color: #d4ebff;}#sk-container-id-17 div.sk-serial::before {content: \"\";position: absolute;border-left: 1px solid gray;box-sizing: border-box;top: 0;bottom: 0;left: 50%;z-index: 0;}#sk-container-id-17 div.sk-serial {display: flex;flex-direction: column;align-items: center;background-color: white;padding-right: 0.2em;padding-left: 0.2em;position: relative;}#sk-container-id-17 div.sk-item {position: relative;z-index: 1;}#sk-container-id-17 div.sk-parallel {display: flex;align-items: stretch;justify-content: center;background-color: white;position: relative;}#sk-container-id-17 div.sk-item::before, #sk-container-id-17 div.sk-parallel-item::before {content: \"\";position: absolute;border-left: 1px solid gray;box-sizing: border-box;top: 0;bottom: 0;left: 50%;z-index: -1;}#sk-container-id-17 div.sk-parallel-item {display: flex;flex-direction: column;z-index: 1;position: relative;background-color: white;}#sk-container-id-17 div.sk-parallel-item:first-child::after {align-self: flex-end;width: 50%;}#sk-container-id-17 div.sk-parallel-item:last-child::after {align-self: flex-start;width: 50%;}#sk-container-id-17 div.sk-parallel-item:only-child::after {width: 0;}#sk-container-id-17 div.sk-dashed-wrapped {border: 1px dashed gray;margin: 0 0.4em 0.5em 0.4em;box-sizing: border-box;padding-bottom: 0.4em;background-color: white;}#sk-container-id-17 div.sk-label label {font-family: monospace;font-weight: bold;display: inline-block;line-height: 1.2em;}#sk-container-id-17 div.sk-label-container {text-align: center;}#sk-container-id-17 div.sk-container {/* jupyter's `normalize.less` sets `[hidden] { display: none; }` but bootstrap.min.css set `[hidden] { display: none !important; }` so we also need the `!important` here to be able to override the default hidden behavior on the sphinx rendered scikit-learn.org. See: https://github.com/scikit-learn/scikit-learn/issues/21755 */display: inline-block !important;position: relative;}#sk-container-id-17 div.sk-text-repr-fallback {display: none;}</style><div id=\"sk-container-id-17\" class=\"sk-top-container\"><div class=\"sk-text-repr-fallback\"><pre>CountVectorizer(stop_words=&#x27;english&#x27;)</pre><b>In a Jupyter environment, please rerun this cell to show the HTML representation or trust the notebook. <br />On GitHub, the HTML representation is unable to render, please try loading this page with nbviewer.org.</b></div><div class=\"sk-container\" hidden><div class=\"sk-item\"><div class=\"sk-estimator sk-toggleable\"><input class=\"sk-toggleable__control sk-hidden--visually\" id=\"sk-estimator-id-17\" type=\"checkbox\" checked><label for=\"sk-estimator-id-17\" class=\"sk-toggleable__label sk-toggleable__label-arrow\">CountVectorizer</label><div class=\"sk-toggleable__content\"><pre>CountVectorizer(stop_words=&#x27;english&#x27;)</pre></div></div></div></div></div>"
      ],
      "text/plain": [
       "CountVectorizer(stop_words='english')"
      ]
     },
     "execution_count": 137,
     "metadata": {},
     "output_type": "execute_result"
    }
   ],
   "source": [
    "vect = CountVectorizer(stop_words=\"english\")\n",
    "\n",
    "\n",
    "vect.fit(X_train_spam)"
   ]
  },
  {
   "attachments": {},
   "cell_type": "markdown",
   "metadata": {},
   "source": [
    "* Entrenamos el modelo de nuevo:"
   ]
  },
  {
   "cell_type": "code",
   "execution_count": 138,
   "metadata": {},
   "outputs": [
    {
     "data": {
      "text/html": [
       "<style>#sk-container-id-18 {color: black;background-color: white;}#sk-container-id-18 pre{padding: 0;}#sk-container-id-18 div.sk-toggleable {background-color: white;}#sk-container-id-18 label.sk-toggleable__label {cursor: pointer;display: block;width: 100%;margin-bottom: 0;padding: 0.3em;box-sizing: border-box;text-align: center;}#sk-container-id-18 label.sk-toggleable__label-arrow:before {content: \"▸\";float: left;margin-right: 0.25em;color: #696969;}#sk-container-id-18 label.sk-toggleable__label-arrow:hover:before {color: black;}#sk-container-id-18 div.sk-estimator:hover label.sk-toggleable__label-arrow:before {color: black;}#sk-container-id-18 div.sk-toggleable__content {max-height: 0;max-width: 0;overflow: hidden;text-align: left;background-color: #f0f8ff;}#sk-container-id-18 div.sk-toggleable__content pre {margin: 0.2em;color: black;border-radius: 0.25em;background-color: #f0f8ff;}#sk-container-id-18 input.sk-toggleable__control:checked~div.sk-toggleable__content {max-height: 200px;max-width: 100%;overflow: auto;}#sk-container-id-18 input.sk-toggleable__control:checked~label.sk-toggleable__label-arrow:before {content: \"▾\";}#sk-container-id-18 div.sk-estimator input.sk-toggleable__control:checked~label.sk-toggleable__label {background-color: #d4ebff;}#sk-container-id-18 div.sk-label input.sk-toggleable__control:checked~label.sk-toggleable__label {background-color: #d4ebff;}#sk-container-id-18 input.sk-hidden--visually {border: 0;clip: rect(1px 1px 1px 1px);clip: rect(1px, 1px, 1px, 1px);height: 1px;margin: -1px;overflow: hidden;padding: 0;position: absolute;width: 1px;}#sk-container-id-18 div.sk-estimator {font-family: monospace;background-color: #f0f8ff;border: 1px dotted black;border-radius: 0.25em;box-sizing: border-box;margin-bottom: 0.5em;}#sk-container-id-18 div.sk-estimator:hover {background-color: #d4ebff;}#sk-container-id-18 div.sk-parallel-item::after {content: \"\";width: 100%;border-bottom: 1px solid gray;flex-grow: 1;}#sk-container-id-18 div.sk-label:hover label.sk-toggleable__label {background-color: #d4ebff;}#sk-container-id-18 div.sk-serial::before {content: \"\";position: absolute;border-left: 1px solid gray;box-sizing: border-box;top: 0;bottom: 0;left: 50%;z-index: 0;}#sk-container-id-18 div.sk-serial {display: flex;flex-direction: column;align-items: center;background-color: white;padding-right: 0.2em;padding-left: 0.2em;position: relative;}#sk-container-id-18 div.sk-item {position: relative;z-index: 1;}#sk-container-id-18 div.sk-parallel {display: flex;align-items: stretch;justify-content: center;background-color: white;position: relative;}#sk-container-id-18 div.sk-item::before, #sk-container-id-18 div.sk-parallel-item::before {content: \"\";position: absolute;border-left: 1px solid gray;box-sizing: border-box;top: 0;bottom: 0;left: 50%;z-index: -1;}#sk-container-id-18 div.sk-parallel-item {display: flex;flex-direction: column;z-index: 1;position: relative;background-color: white;}#sk-container-id-18 div.sk-parallel-item:first-child::after {align-self: flex-end;width: 50%;}#sk-container-id-18 div.sk-parallel-item:last-child::after {align-self: flex-start;width: 50%;}#sk-container-id-18 div.sk-parallel-item:only-child::after {width: 0;}#sk-container-id-18 div.sk-dashed-wrapped {border: 1px dashed gray;margin: 0 0.4em 0.5em 0.4em;box-sizing: border-box;padding-bottom: 0.4em;background-color: white;}#sk-container-id-18 div.sk-label label {font-family: monospace;font-weight: bold;display: inline-block;line-height: 1.2em;}#sk-container-id-18 div.sk-label-container {text-align: center;}#sk-container-id-18 div.sk-container {/* jupyter's `normalize.less` sets `[hidden] { display: none; }` but bootstrap.min.css set `[hidden] { display: none !important; }` so we also need the `!important` here to be able to override the default hidden behavior on the sphinx rendered scikit-learn.org. See: https://github.com/scikit-learn/scikit-learn/issues/21755 */display: inline-block !important;position: relative;}#sk-container-id-18 div.sk-text-repr-fallback {display: none;}</style><div id=\"sk-container-id-18\" class=\"sk-top-container\"><div class=\"sk-text-repr-fallback\"><pre>RandomForestClassifier(random_state=20)</pre><b>In a Jupyter environment, please rerun this cell to show the HTML representation or trust the notebook. <br />On GitHub, the HTML representation is unable to render, please try loading this page with nbviewer.org.</b></div><div class=\"sk-container\" hidden><div class=\"sk-item\"><div class=\"sk-estimator sk-toggleable\"><input class=\"sk-toggleable__control sk-hidden--visually\" id=\"sk-estimator-id-18\" type=\"checkbox\" checked><label for=\"sk-estimator-id-18\" class=\"sk-toggleable__label sk-toggleable__label-arrow\">RandomForestClassifier</label><div class=\"sk-toggleable__content\"><pre>RandomForestClassifier(random_state=20)</pre></div></div></div></div></div>"
      ],
      "text/plain": [
       "RandomForestClassifier(random_state=20)"
      ]
     },
     "execution_count": 138,
     "metadata": {},
     "output_type": "execute_result"
    }
   ],
   "source": [
    "X_train_spam_vect = vect.transform(X_train_spam)\n",
    "X_test_spam_vect = vect.transform(X_test_spam)\n",
    "\n",
    "rfc = RandomForestClassifier(n_estimators=100,random_state=20)\n",
    "rfc.fit(X_train_spam_vect,y_train_spam)"
   ]
  },
  {
   "attachments": {},
   "cell_type": "markdown",
   "metadata": {},
   "source": [
    "* Vamos a ir directamente a observar la matriz de confusión:"
   ]
  },
  {
   "cell_type": "code",
   "execution_count": 139,
   "metadata": {},
   "outputs": [
    {
     "name": "stdout",
     "output_type": "stream",
     "text": [
      "[[979   0]\n",
      " [ 26 110]]\n",
      "              precision    recall  f1-score   support\n",
      "\n",
      "         ham       0.97      1.00      0.99       979\n",
      "        spam       1.00      0.81      0.89       136\n",
      "\n",
      "    accuracy                           0.98      1115\n",
      "   macro avg       0.99      0.90      0.94      1115\n",
      "weighted avg       0.98      0.98      0.98      1115\n",
      "\n"
     ]
    }
   ],
   "source": [
    "cm = confusion_matrix(y_test_spam, rfc.predict(X_test_spam_vect))\n",
    "print(cm)\n",
    "print(classification_report(y_test_spam, rfc.predict(X_test_spam_vect)))"
   ]
  },
  {
   "attachments": {},
   "cell_type": "markdown",
   "metadata": {},
   "source": [
    "En mi caso : \n",
    "\n",
    "        [[979   0]\n",
    "         [ 26 110]]\n",
    "\n",
    "\n",
    "                      precision    recall  f1-score   support\n",
    "\n",
    "                 ham       0.97      1.00      0.99       979\n",
    "                spam       1.00      0.81      0.89       136\n",
    "\n",
    "            accuracy                           0.98      1115\n",
    "           macro avg       0.99      0.90      0.94      1115\n",
    "        weighted avg       0.98      0.98      0.98      1115\n",
    "\n",
    "Generalmente, con un recall de 0,81,  parece que mejora un poco su detección de correos spam, sin alterar su eficacia en lo demás.\n",
    "\n",
    "Sin embargo aun no hemos acabado, vamos ver como mejora el rendimiento al aplicar el parametro `min_df`\n",
    "\n",
    "* vamos a ponerlo en 5, es decir, que una palabra deberá aparecer en por lo menos 5 sms para pertenecer al vocabulario"
   ]
  },
  {
   "cell_type": "code",
   "execution_count": 140,
   "metadata": {},
   "outputs": [
    {
     "data": {
      "text/html": [
       "<style>#sk-container-id-19 {color: black;background-color: white;}#sk-container-id-19 pre{padding: 0;}#sk-container-id-19 div.sk-toggleable {background-color: white;}#sk-container-id-19 label.sk-toggleable__label {cursor: pointer;display: block;width: 100%;margin-bottom: 0;padding: 0.3em;box-sizing: border-box;text-align: center;}#sk-container-id-19 label.sk-toggleable__label-arrow:before {content: \"▸\";float: left;margin-right: 0.25em;color: #696969;}#sk-container-id-19 label.sk-toggleable__label-arrow:hover:before {color: black;}#sk-container-id-19 div.sk-estimator:hover label.sk-toggleable__label-arrow:before {color: black;}#sk-container-id-19 div.sk-toggleable__content {max-height: 0;max-width: 0;overflow: hidden;text-align: left;background-color: #f0f8ff;}#sk-container-id-19 div.sk-toggleable__content pre {margin: 0.2em;color: black;border-radius: 0.25em;background-color: #f0f8ff;}#sk-container-id-19 input.sk-toggleable__control:checked~div.sk-toggleable__content {max-height: 200px;max-width: 100%;overflow: auto;}#sk-container-id-19 input.sk-toggleable__control:checked~label.sk-toggleable__label-arrow:before {content: \"▾\";}#sk-container-id-19 div.sk-estimator input.sk-toggleable__control:checked~label.sk-toggleable__label {background-color: #d4ebff;}#sk-container-id-19 div.sk-label input.sk-toggleable__control:checked~label.sk-toggleable__label {background-color: #d4ebff;}#sk-container-id-19 input.sk-hidden--visually {border: 0;clip: rect(1px 1px 1px 1px);clip: rect(1px, 1px, 1px, 1px);height: 1px;margin: -1px;overflow: hidden;padding: 0;position: absolute;width: 1px;}#sk-container-id-19 div.sk-estimator {font-family: monospace;background-color: #f0f8ff;border: 1px dotted black;border-radius: 0.25em;box-sizing: border-box;margin-bottom: 0.5em;}#sk-container-id-19 div.sk-estimator:hover {background-color: #d4ebff;}#sk-container-id-19 div.sk-parallel-item::after {content: \"\";width: 100%;border-bottom: 1px solid gray;flex-grow: 1;}#sk-container-id-19 div.sk-label:hover label.sk-toggleable__label {background-color: #d4ebff;}#sk-container-id-19 div.sk-serial::before {content: \"\";position: absolute;border-left: 1px solid gray;box-sizing: border-box;top: 0;bottom: 0;left: 50%;z-index: 0;}#sk-container-id-19 div.sk-serial {display: flex;flex-direction: column;align-items: center;background-color: white;padding-right: 0.2em;padding-left: 0.2em;position: relative;}#sk-container-id-19 div.sk-item {position: relative;z-index: 1;}#sk-container-id-19 div.sk-parallel {display: flex;align-items: stretch;justify-content: center;background-color: white;position: relative;}#sk-container-id-19 div.sk-item::before, #sk-container-id-19 div.sk-parallel-item::before {content: \"\";position: absolute;border-left: 1px solid gray;box-sizing: border-box;top: 0;bottom: 0;left: 50%;z-index: -1;}#sk-container-id-19 div.sk-parallel-item {display: flex;flex-direction: column;z-index: 1;position: relative;background-color: white;}#sk-container-id-19 div.sk-parallel-item:first-child::after {align-self: flex-end;width: 50%;}#sk-container-id-19 div.sk-parallel-item:last-child::after {align-self: flex-start;width: 50%;}#sk-container-id-19 div.sk-parallel-item:only-child::after {width: 0;}#sk-container-id-19 div.sk-dashed-wrapped {border: 1px dashed gray;margin: 0 0.4em 0.5em 0.4em;box-sizing: border-box;padding-bottom: 0.4em;background-color: white;}#sk-container-id-19 div.sk-label label {font-family: monospace;font-weight: bold;display: inline-block;line-height: 1.2em;}#sk-container-id-19 div.sk-label-container {text-align: center;}#sk-container-id-19 div.sk-container {/* jupyter's `normalize.less` sets `[hidden] { display: none; }` but bootstrap.min.css set `[hidden] { display: none !important; }` so we also need the `!important` here to be able to override the default hidden behavior on the sphinx rendered scikit-learn.org. See: https://github.com/scikit-learn/scikit-learn/issues/21755 */display: inline-block !important;position: relative;}#sk-container-id-19 div.sk-text-repr-fallback {display: none;}</style><div id=\"sk-container-id-19\" class=\"sk-top-container\"><div class=\"sk-text-repr-fallback\"><pre>CountVectorizer(min_df=5, stop_words=&#x27;english&#x27;)</pre><b>In a Jupyter environment, please rerun this cell to show the HTML representation or trust the notebook. <br />On GitHub, the HTML representation is unable to render, please try loading this page with nbviewer.org.</b></div><div class=\"sk-container\" hidden><div class=\"sk-item\"><div class=\"sk-estimator sk-toggleable\"><input class=\"sk-toggleable__control sk-hidden--visually\" id=\"sk-estimator-id-19\" type=\"checkbox\" checked><label for=\"sk-estimator-id-19\" class=\"sk-toggleable__label sk-toggleable__label-arrow\">CountVectorizer</label><div class=\"sk-toggleable__content\"><pre>CountVectorizer(min_df=5, stop_words=&#x27;english&#x27;)</pre></div></div></div></div></div>"
      ],
      "text/plain": [
       "CountVectorizer(min_df=5, stop_words='english')"
      ]
     },
     "execution_count": 140,
     "metadata": {},
     "output_type": "execute_result"
    }
   ],
   "source": [
    "vect = CountVectorizer(stop_words=\"english\", min_df=5)\n",
    "\n",
    "vect.fit(X_train_spam)"
   ]
  },
  {
   "attachments": {},
   "cell_type": "markdown",
   "metadata": {},
   "source": [
    "* Vectorizamos de nuevo, y entrenamos el modelo: "
   ]
  },
  {
   "cell_type": "code",
   "execution_count": 141,
   "metadata": {},
   "outputs": [
    {
     "data": {
      "text/html": [
       "<style>#sk-container-id-20 {color: black;background-color: white;}#sk-container-id-20 pre{padding: 0;}#sk-container-id-20 div.sk-toggleable {background-color: white;}#sk-container-id-20 label.sk-toggleable__label {cursor: pointer;display: block;width: 100%;margin-bottom: 0;padding: 0.3em;box-sizing: border-box;text-align: center;}#sk-container-id-20 label.sk-toggleable__label-arrow:before {content: \"▸\";float: left;margin-right: 0.25em;color: #696969;}#sk-container-id-20 label.sk-toggleable__label-arrow:hover:before {color: black;}#sk-container-id-20 div.sk-estimator:hover label.sk-toggleable__label-arrow:before {color: black;}#sk-container-id-20 div.sk-toggleable__content {max-height: 0;max-width: 0;overflow: hidden;text-align: left;background-color: #f0f8ff;}#sk-container-id-20 div.sk-toggleable__content pre {margin: 0.2em;color: black;border-radius: 0.25em;background-color: #f0f8ff;}#sk-container-id-20 input.sk-toggleable__control:checked~div.sk-toggleable__content {max-height: 200px;max-width: 100%;overflow: auto;}#sk-container-id-20 input.sk-toggleable__control:checked~label.sk-toggleable__label-arrow:before {content: \"▾\";}#sk-container-id-20 div.sk-estimator input.sk-toggleable__control:checked~label.sk-toggleable__label {background-color: #d4ebff;}#sk-container-id-20 div.sk-label input.sk-toggleable__control:checked~label.sk-toggleable__label {background-color: #d4ebff;}#sk-container-id-20 input.sk-hidden--visually {border: 0;clip: rect(1px 1px 1px 1px);clip: rect(1px, 1px, 1px, 1px);height: 1px;margin: -1px;overflow: hidden;padding: 0;position: absolute;width: 1px;}#sk-container-id-20 div.sk-estimator {font-family: monospace;background-color: #f0f8ff;border: 1px dotted black;border-radius: 0.25em;box-sizing: border-box;margin-bottom: 0.5em;}#sk-container-id-20 div.sk-estimator:hover {background-color: #d4ebff;}#sk-container-id-20 div.sk-parallel-item::after {content: \"\";width: 100%;border-bottom: 1px solid gray;flex-grow: 1;}#sk-container-id-20 div.sk-label:hover label.sk-toggleable__label {background-color: #d4ebff;}#sk-container-id-20 div.sk-serial::before {content: \"\";position: absolute;border-left: 1px solid gray;box-sizing: border-box;top: 0;bottom: 0;left: 50%;z-index: 0;}#sk-container-id-20 div.sk-serial {display: flex;flex-direction: column;align-items: center;background-color: white;padding-right: 0.2em;padding-left: 0.2em;position: relative;}#sk-container-id-20 div.sk-item {position: relative;z-index: 1;}#sk-container-id-20 div.sk-parallel {display: flex;align-items: stretch;justify-content: center;background-color: white;position: relative;}#sk-container-id-20 div.sk-item::before, #sk-container-id-20 div.sk-parallel-item::before {content: \"\";position: absolute;border-left: 1px solid gray;box-sizing: border-box;top: 0;bottom: 0;left: 50%;z-index: -1;}#sk-container-id-20 div.sk-parallel-item {display: flex;flex-direction: column;z-index: 1;position: relative;background-color: white;}#sk-container-id-20 div.sk-parallel-item:first-child::after {align-self: flex-end;width: 50%;}#sk-container-id-20 div.sk-parallel-item:last-child::after {align-self: flex-start;width: 50%;}#sk-container-id-20 div.sk-parallel-item:only-child::after {width: 0;}#sk-container-id-20 div.sk-dashed-wrapped {border: 1px dashed gray;margin: 0 0.4em 0.5em 0.4em;box-sizing: border-box;padding-bottom: 0.4em;background-color: white;}#sk-container-id-20 div.sk-label label {font-family: monospace;font-weight: bold;display: inline-block;line-height: 1.2em;}#sk-container-id-20 div.sk-label-container {text-align: center;}#sk-container-id-20 div.sk-container {/* jupyter's `normalize.less` sets `[hidden] { display: none; }` but bootstrap.min.css set `[hidden] { display: none !important; }` so we also need the `!important` here to be able to override the default hidden behavior on the sphinx rendered scikit-learn.org. See: https://github.com/scikit-learn/scikit-learn/issues/21755 */display: inline-block !important;position: relative;}#sk-container-id-20 div.sk-text-repr-fallback {display: none;}</style><div id=\"sk-container-id-20\" class=\"sk-top-container\"><div class=\"sk-text-repr-fallback\"><pre>RandomForestClassifier(random_state=20)</pre><b>In a Jupyter environment, please rerun this cell to show the HTML representation or trust the notebook. <br />On GitHub, the HTML representation is unable to render, please try loading this page with nbviewer.org.</b></div><div class=\"sk-container\" hidden><div class=\"sk-item\"><div class=\"sk-estimator sk-toggleable\"><input class=\"sk-toggleable__control sk-hidden--visually\" id=\"sk-estimator-id-20\" type=\"checkbox\" checked><label for=\"sk-estimator-id-20\" class=\"sk-toggleable__label sk-toggleable__label-arrow\">RandomForestClassifier</label><div class=\"sk-toggleable__content\"><pre>RandomForestClassifier(random_state=20)</pre></div></div></div></div></div>"
      ],
      "text/plain": [
       "RandomForestClassifier(random_state=20)"
      ]
     },
     "execution_count": 141,
     "metadata": {},
     "output_type": "execute_result"
    }
   ],
   "source": [
    "X_train_spam_vect = vect.transform(X_train_spam)\n",
    "X_test_spam_vect = vect.transform(X_test_spam)\n",
    "\n",
    "rfc = RandomForestClassifier(n_estimators=100,random_state=20)\n",
    "rfc.fit(X_train_spam_vect,y_train_spam)"
   ]
  },
  {
   "attachments": {},
   "cell_type": "markdown",
   "metadata": {},
   "source": [
    "* Mostramos el rendimiento :"
   ]
  },
  {
   "cell_type": "code",
   "execution_count": 142,
   "metadata": {},
   "outputs": [
    {
     "name": "stdout",
     "output_type": "stream",
     "text": [
      "[[973   6]\n",
      " [ 15 121]]\n",
      "              precision    recall  f1-score   support\n",
      "\n",
      "         ham       0.98      0.99      0.99       979\n",
      "        spam       0.95      0.89      0.92       136\n",
      "\n",
      "    accuracy                           0.98      1115\n",
      "   macro avg       0.97      0.94      0.95      1115\n",
      "weighted avg       0.98      0.98      0.98      1115\n",
      "\n"
     ]
    }
   ],
   "source": [
    "cm = confusion_matrix(y_test_spam, rfc.predict(X_test_spam_vect))\n",
    "print(cm)\n",
    "print(classification_report(y_test_spam, rfc.predict(X_test_spam_vect)))"
   ]
  },
  {
   "attachments": {},
   "cell_type": "markdown",
   "metadata": {},
   "source": [
    "Ha pasado algo interesante, aunque ha empezado a acertar más en clasificar correos spam como tales, ahora también ha empezado a equivocarse al clasificar correos normales como spam.\n",
    "\n",
    "* Según el contexto puede ser peor o mejor, si bien menos correos spam escapan a su filtro, es bastante probable que no sea viable permitir que correos normales, que pueden ser importantes, se clasifiquen como spam."
   ]
  },
  {
   "attachments": {},
   "cell_type": "markdown",
   "metadata": {},
   "source": [
    "Vamos a probar a hacer la clasificación con un `SVC`: "
   ]
  },
  {
   "cell_type": "code",
   "execution_count": 143,
   "metadata": {},
   "outputs": [
    {
     "name": "stdout",
     "output_type": "stream",
     "text": [
      "[[977   2]\n",
      " [ 21 115]]\n",
      "              precision    recall  f1-score   support\n",
      "\n",
      "         ham       0.98      1.00      0.99       979\n",
      "        spam       0.98      0.85      0.91       136\n",
      "\n",
      "    accuracy                           0.98      1115\n",
      "   macro avg       0.98      0.92      0.95      1115\n",
      "weighted avg       0.98      0.98      0.98      1115\n",
      "\n"
     ]
    }
   ],
   "source": [
    "svc.fit(X_train_spam_vect,y_train_spam)\n",
    "\n",
    "cm = confusion_matrix(y_test_spam,svc.predict(X_test_spam_vect))\n",
    "print(cm)\n",
    "print(classification_report(y_test_spam, svc.predict(X_test_spam_vect)))"
   ]
  },
  {
   "attachments": {},
   "cell_type": "markdown",
   "metadata": {},
   "source": [
    "El clasificador SVC da un rendimiento parecido, pero con alguna diferencia, clasifica menos correos no spam como spam, pero se equivoca más al clasificar correos spam como tal."
   ]
  },
  {
   "attachments": {},
   "cell_type": "markdown",
   "metadata": {},
   "source": [
    "Podemos probar también el rendimiento con `CountVectorizer` binario :"
   ]
  },
  {
   "cell_type": "code",
   "execution_count": 144,
   "metadata": {},
   "outputs": [],
   "source": [
    "# Creamos el objeto vectorizador y lo ajustamos con fit al corpus de nuestros mensajes\n",
    "vect = CountVectorizer(binary=True,stop_words=\"english\", min_df=5)\n",
    "vect.fit(X_train_spam)\n",
    "\n",
    "# Ahora tenemos que transformar nuestros conjuntos de entrenamiento y prueba \n",
    "# en dichas matrices de frecuencia de términos\n",
    "X_train_spam_bin = vect.transform(X_train_spam)\n",
    "X_test_spam_bin = vect.transform(X_test_spam)"
   ]
  },
  {
   "attachments": {},
   "cell_type": "markdown",
   "metadata": {},
   "source": [
    "* entrenamos el Clasificador para el nuevo conjunto de datos vectorizado:"
   ]
  },
  {
   "cell_type": "code",
   "execution_count": 145,
   "metadata": {},
   "outputs": [
    {
     "data": {
      "text/html": [
       "<style>#sk-container-id-21 {color: black;background-color: white;}#sk-container-id-21 pre{padding: 0;}#sk-container-id-21 div.sk-toggleable {background-color: white;}#sk-container-id-21 label.sk-toggleable__label {cursor: pointer;display: block;width: 100%;margin-bottom: 0;padding: 0.3em;box-sizing: border-box;text-align: center;}#sk-container-id-21 label.sk-toggleable__label-arrow:before {content: \"▸\";float: left;margin-right: 0.25em;color: #696969;}#sk-container-id-21 label.sk-toggleable__label-arrow:hover:before {color: black;}#sk-container-id-21 div.sk-estimator:hover label.sk-toggleable__label-arrow:before {color: black;}#sk-container-id-21 div.sk-toggleable__content {max-height: 0;max-width: 0;overflow: hidden;text-align: left;background-color: #f0f8ff;}#sk-container-id-21 div.sk-toggleable__content pre {margin: 0.2em;color: black;border-radius: 0.25em;background-color: #f0f8ff;}#sk-container-id-21 input.sk-toggleable__control:checked~div.sk-toggleable__content {max-height: 200px;max-width: 100%;overflow: auto;}#sk-container-id-21 input.sk-toggleable__control:checked~label.sk-toggleable__label-arrow:before {content: \"▾\";}#sk-container-id-21 div.sk-estimator input.sk-toggleable__control:checked~label.sk-toggleable__label {background-color: #d4ebff;}#sk-container-id-21 div.sk-label input.sk-toggleable__control:checked~label.sk-toggleable__label {background-color: #d4ebff;}#sk-container-id-21 input.sk-hidden--visually {border: 0;clip: rect(1px 1px 1px 1px);clip: rect(1px, 1px, 1px, 1px);height: 1px;margin: -1px;overflow: hidden;padding: 0;position: absolute;width: 1px;}#sk-container-id-21 div.sk-estimator {font-family: monospace;background-color: #f0f8ff;border: 1px dotted black;border-radius: 0.25em;box-sizing: border-box;margin-bottom: 0.5em;}#sk-container-id-21 div.sk-estimator:hover {background-color: #d4ebff;}#sk-container-id-21 div.sk-parallel-item::after {content: \"\";width: 100%;border-bottom: 1px solid gray;flex-grow: 1;}#sk-container-id-21 div.sk-label:hover label.sk-toggleable__label {background-color: #d4ebff;}#sk-container-id-21 div.sk-serial::before {content: \"\";position: absolute;border-left: 1px solid gray;box-sizing: border-box;top: 0;bottom: 0;left: 50%;z-index: 0;}#sk-container-id-21 div.sk-serial {display: flex;flex-direction: column;align-items: center;background-color: white;padding-right: 0.2em;padding-left: 0.2em;position: relative;}#sk-container-id-21 div.sk-item {position: relative;z-index: 1;}#sk-container-id-21 div.sk-parallel {display: flex;align-items: stretch;justify-content: center;background-color: white;position: relative;}#sk-container-id-21 div.sk-item::before, #sk-container-id-21 div.sk-parallel-item::before {content: \"\";position: absolute;border-left: 1px solid gray;box-sizing: border-box;top: 0;bottom: 0;left: 50%;z-index: -1;}#sk-container-id-21 div.sk-parallel-item {display: flex;flex-direction: column;z-index: 1;position: relative;background-color: white;}#sk-container-id-21 div.sk-parallel-item:first-child::after {align-self: flex-end;width: 50%;}#sk-container-id-21 div.sk-parallel-item:last-child::after {align-self: flex-start;width: 50%;}#sk-container-id-21 div.sk-parallel-item:only-child::after {width: 0;}#sk-container-id-21 div.sk-dashed-wrapped {border: 1px dashed gray;margin: 0 0.4em 0.5em 0.4em;box-sizing: border-box;padding-bottom: 0.4em;background-color: white;}#sk-container-id-21 div.sk-label label {font-family: monospace;font-weight: bold;display: inline-block;line-height: 1.2em;}#sk-container-id-21 div.sk-label-container {text-align: center;}#sk-container-id-21 div.sk-container {/* jupyter's `normalize.less` sets `[hidden] { display: none; }` but bootstrap.min.css set `[hidden] { display: none !important; }` so we also need the `!important` here to be able to override the default hidden behavior on the sphinx rendered scikit-learn.org. See: https://github.com/scikit-learn/scikit-learn/issues/21755 */display: inline-block !important;position: relative;}#sk-container-id-21 div.sk-text-repr-fallback {display: none;}</style><div id=\"sk-container-id-21\" class=\"sk-top-container\"><div class=\"sk-text-repr-fallback\"><pre>RandomForestClassifier(random_state=20)</pre><b>In a Jupyter environment, please rerun this cell to show the HTML representation or trust the notebook. <br />On GitHub, the HTML representation is unable to render, please try loading this page with nbviewer.org.</b></div><div class=\"sk-container\" hidden><div class=\"sk-item\"><div class=\"sk-estimator sk-toggleable\"><input class=\"sk-toggleable__control sk-hidden--visually\" id=\"sk-estimator-id-21\" type=\"checkbox\" checked><label for=\"sk-estimator-id-21\" class=\"sk-toggleable__label sk-toggleable__label-arrow\">RandomForestClassifier</label><div class=\"sk-toggleable__content\"><pre>RandomForestClassifier(random_state=20)</pre></div></div></div></div></div>"
      ],
      "text/plain": [
       "RandomForestClassifier(random_state=20)"
      ]
     },
     "execution_count": 145,
     "metadata": {},
     "output_type": "execute_result"
    }
   ],
   "source": [
    "rfc.fit(X_train_spam_bin,y_train_spam)"
   ]
  },
  {
   "attachments": {},
   "cell_type": "markdown",
   "metadata": {},
   "source": [
    "* mostramos sus resultados: "
   ]
  },
  {
   "cell_type": "code",
   "execution_count": 146,
   "metadata": {},
   "outputs": [
    {
     "name": "stdout",
     "output_type": "stream",
     "text": [
      "Predicciones del modelo: ['ham' 'ham' 'ham' 'ham' 'ham' 'ham' 'spam' 'ham' 'ham'] \n",
      "Resultados esperados: ['ham' 'ham' 'ham' 'ham' 'ham' 'ham' 'spam' 'ham' 'ham']\n",
      "\n",
      "Puntuación sobre cjto de entrenamiento: 99.933 %\n",
      "\n",
      "Puntuación sobre cjto de prueba: 98.296 %\n",
      "\n"
     ]
    }
   ],
   "source": [
    "imprime_predicciones(X_train_spam_bin,X_test_spam_bin,y_train_spam,y_test_spam, clasif=rfc)"
   ]
  },
  {
   "attachments": {},
   "cell_type": "markdown",
   "metadata": {},
   "source": [
    "* Probamos a evaluar con validacion cruzada: "
   ]
  },
  {
   "cell_type": "code",
   "execution_count": 147,
   "metadata": {},
   "outputs": [
    {
     "name": "stdout",
     "output_type": "stream",
     "text": [
      "Puntuaciones obtenidas en cada pliegue(fold):  [0.96412556 0.95515695 0.97309417 0.96412556 0.92825112]\n",
      "Puntuación media obtenida:  0.9632838130609718\n"
     ]
    }
   ],
   "source": [
    "scores_bin = cross_val_score(rfc,X_test_spam_bin,y_test_spam,cv=5)\n",
    "\n",
    "print(\"Puntuaciones obtenidas en cada pliegue(fold): \",scores_bin)\n",
    "print(\"Puntuación media obtenida: \", scores.mean())"
   ]
  },
  {
   "attachments": {},
   "cell_type": "markdown",
   "metadata": {},
   "source": [
    "* Y optimizando hiperparámetros con grid search:"
   ]
  },
  {
   "cell_type": "code",
   "execution_count": 148,
   "metadata": {},
   "outputs": [
    {
     "name": "stdout",
     "output_type": "stream",
     "text": [
      "Mejores parámetros: {'max_depth': None, 'max_features': 'log2', 'min_samples_leaf': 1, 'min_samples_split': 5, 'n_estimators': 40}\n",
      "\n",
      "Mejor puntaje: 0.9795813138862466\n"
     ]
    }
   ],
   "source": [
    "# creamos el objeto y le hacemos fit para ajustarlo a nuestro clasificador\n",
    "# con cv indicamos los k-folds para la validación cruzada.\n",
    "grid_search_spam = GridSearchCV(rfc, param_grid=params, cv=5)\n",
    "grid_search_spam.fit(X_train_spam_bin, y_train_spam)\n",
    "\n",
    "# Imprimimos los mejores parámetros y el puntaje de la mejor combinación\n",
    "print(\"Mejores parámetros:\", grid_search_spam.best_params_)\n",
    "print(\"\\nMejor puntaje:\", grid_search_spam.best_score_)"
   ]
  },
  {
   "attachments": {},
   "cell_type": "markdown",
   "metadata": {},
   "source": [
    "* finalmente podemos obtener tanto su matriz de confusión como sus métricas :"
   ]
  },
  {
   "cell_type": "code",
   "execution_count": 149,
   "metadata": {},
   "outputs": [
    {
     "name": "stdout",
     "output_type": "stream",
     "text": [
      "[[975   4]\n",
      " [ 15 121]]\n"
     ]
    }
   ],
   "source": [
    "cm = confusion_matrix(y_test_spam, rfc.predict(X_test_spam_vect))\n",
    "print(cm)"
   ]
  },
  {
   "cell_type": "code",
   "execution_count": 150,
   "metadata": {},
   "outputs": [
    {
     "name": "stdout",
     "output_type": "stream",
     "text": [
      "              precision    recall  f1-score   support\n",
      "\n",
      "         ham       0.98      1.00      0.99       979\n",
      "        spam       0.97      0.89      0.93       136\n",
      "\n",
      "    accuracy                           0.98      1115\n",
      "   macro avg       0.98      0.94      0.96      1115\n",
      "weighted avg       0.98      0.98      0.98      1115\n",
      "\n"
     ]
    }
   ],
   "source": [
    "print(classification_report(y_test_spam, rfc.predict(X_test_spam_vect)))"
   ]
  },
  {
   "attachments": {},
   "cell_type": "markdown",
   "metadata": {},
   "source": [
    "Podemos notar que realmente no ha cambiado gran cosa, el clasificador obtiene métricas similares y sigue teniendo los mismos problemas, se reduce el número de mensajes spam que se clasifican mal, pero empieza a equivocarse al clasificar los no spam "
   ]
  },
  {
   "attachments": {},
   "cell_type": "markdown",
   "metadata": {},
   "source": [
    "Ahora veamos CountVectorizer binario con un `SVC`"
   ]
  },
  {
   "cell_type": "code",
   "execution_count": 152,
   "metadata": {},
   "outputs": [
    {
     "name": "stdout",
     "output_type": "stream",
     "text": [
      "[[979   0]\n",
      " [ 21 115]]\n",
      "              precision    recall  f1-score   support\n",
      "\n",
      "         ham       0.98      1.00      0.99       979\n",
      "        spam       1.00      0.85      0.92       136\n",
      "\n",
      "    accuracy                           0.98      1115\n",
      "   macro avg       0.99      0.92      0.95      1115\n",
      "weighted avg       0.98      0.98      0.98      1115\n",
      "\n"
     ]
    }
   ],
   "source": [
    "# entrenamos el svc con los datos vectorizados\n",
    "svc.fit(X_train_spam_bin,y_train_spam)\n",
    "\n",
    "cm = confusion_matrix(y_test_spam,svc.predict(X_test_spam_bin))\n",
    "print(cm)\n",
    "print(classification_report(y_test_spam, svc.predict(X_test_spam_bin)))"
   ]
  },
  {
   "attachments": {},
   "cell_type": "markdown",
   "metadata": {},
   "source": [
    "Al igual que antes acierta un poco peor al clasficar correos spam como tal, pero se equivoca menos clasificando mal correos no spam."
   ]
  },
  {
   "attachments": {},
   "cell_type": "markdown",
   "metadata": {},
   "source": [
    "Vamos a probar a  vectorizar con Tfidf para ver si hay algun cambio sustancial en el rendimiento del clasificador:\n",
    "*  importamos `TfidfVectorizer` de `Sklearn.feature_extraction.text`"
   ]
  },
  {
   "cell_type": "code",
   "execution_count": 153,
   "metadata": {},
   "outputs": [],
   "source": [
    "from sklearn.feature_extraction.text import TfidfVectorizer\n",
    "\n",
    "# Creamos el objeto...\n",
    "tfidf_vect = TfidfVectorizer(stop_words=\"english\", min_df=5)\n",
    "# ... y lo entrenamos.\n",
    "tfidf_vect.fit(X_train_spam)\n",
    "\n",
    "# vectorizamos conjuntos de entrenamiento y prueba\n",
    "X_train_spam_tfidf = tfidf_vect.transform(X_train_spam)\n",
    "X_test_spam_tfidf = tfidf_vect.transform(X_test_spam)"
   ]
  },
  {
   "attachments": {},
   "cell_type": "markdown",
   "metadata": {},
   "source": [
    "* Ajustamos el modelo a los nuevos datos vectorizados"
   ]
  },
  {
   "cell_type": "code",
   "execution_count": 154,
   "metadata": {},
   "outputs": [
    {
     "data": {
      "text/html": [
       "<style>#sk-container-id-22 {color: black;background-color: white;}#sk-container-id-22 pre{padding: 0;}#sk-container-id-22 div.sk-toggleable {background-color: white;}#sk-container-id-22 label.sk-toggleable__label {cursor: pointer;display: block;width: 100%;margin-bottom: 0;padding: 0.3em;box-sizing: border-box;text-align: center;}#sk-container-id-22 label.sk-toggleable__label-arrow:before {content: \"▸\";float: left;margin-right: 0.25em;color: #696969;}#sk-container-id-22 label.sk-toggleable__label-arrow:hover:before {color: black;}#sk-container-id-22 div.sk-estimator:hover label.sk-toggleable__label-arrow:before {color: black;}#sk-container-id-22 div.sk-toggleable__content {max-height: 0;max-width: 0;overflow: hidden;text-align: left;background-color: #f0f8ff;}#sk-container-id-22 div.sk-toggleable__content pre {margin: 0.2em;color: black;border-radius: 0.25em;background-color: #f0f8ff;}#sk-container-id-22 input.sk-toggleable__control:checked~div.sk-toggleable__content {max-height: 200px;max-width: 100%;overflow: auto;}#sk-container-id-22 input.sk-toggleable__control:checked~label.sk-toggleable__label-arrow:before {content: \"▾\";}#sk-container-id-22 div.sk-estimator input.sk-toggleable__control:checked~label.sk-toggleable__label {background-color: #d4ebff;}#sk-container-id-22 div.sk-label input.sk-toggleable__control:checked~label.sk-toggleable__label {background-color: #d4ebff;}#sk-container-id-22 input.sk-hidden--visually {border: 0;clip: rect(1px 1px 1px 1px);clip: rect(1px, 1px, 1px, 1px);height: 1px;margin: -1px;overflow: hidden;padding: 0;position: absolute;width: 1px;}#sk-container-id-22 div.sk-estimator {font-family: monospace;background-color: #f0f8ff;border: 1px dotted black;border-radius: 0.25em;box-sizing: border-box;margin-bottom: 0.5em;}#sk-container-id-22 div.sk-estimator:hover {background-color: #d4ebff;}#sk-container-id-22 div.sk-parallel-item::after {content: \"\";width: 100%;border-bottom: 1px solid gray;flex-grow: 1;}#sk-container-id-22 div.sk-label:hover label.sk-toggleable__label {background-color: #d4ebff;}#sk-container-id-22 div.sk-serial::before {content: \"\";position: absolute;border-left: 1px solid gray;box-sizing: border-box;top: 0;bottom: 0;left: 50%;z-index: 0;}#sk-container-id-22 div.sk-serial {display: flex;flex-direction: column;align-items: center;background-color: white;padding-right: 0.2em;padding-left: 0.2em;position: relative;}#sk-container-id-22 div.sk-item {position: relative;z-index: 1;}#sk-container-id-22 div.sk-parallel {display: flex;align-items: stretch;justify-content: center;background-color: white;position: relative;}#sk-container-id-22 div.sk-item::before, #sk-container-id-22 div.sk-parallel-item::before {content: \"\";position: absolute;border-left: 1px solid gray;box-sizing: border-box;top: 0;bottom: 0;left: 50%;z-index: -1;}#sk-container-id-22 div.sk-parallel-item {display: flex;flex-direction: column;z-index: 1;position: relative;background-color: white;}#sk-container-id-22 div.sk-parallel-item:first-child::after {align-self: flex-end;width: 50%;}#sk-container-id-22 div.sk-parallel-item:last-child::after {align-self: flex-start;width: 50%;}#sk-container-id-22 div.sk-parallel-item:only-child::after {width: 0;}#sk-container-id-22 div.sk-dashed-wrapped {border: 1px dashed gray;margin: 0 0.4em 0.5em 0.4em;box-sizing: border-box;padding-bottom: 0.4em;background-color: white;}#sk-container-id-22 div.sk-label label {font-family: monospace;font-weight: bold;display: inline-block;line-height: 1.2em;}#sk-container-id-22 div.sk-label-container {text-align: center;}#sk-container-id-22 div.sk-container {/* jupyter's `normalize.less` sets `[hidden] { display: none; }` but bootstrap.min.css set `[hidden] { display: none !important; }` so we also need the `!important` here to be able to override the default hidden behavior on the sphinx rendered scikit-learn.org. See: https://github.com/scikit-learn/scikit-learn/issues/21755 */display: inline-block !important;position: relative;}#sk-container-id-22 div.sk-text-repr-fallback {display: none;}</style><div id=\"sk-container-id-22\" class=\"sk-top-container\"><div class=\"sk-text-repr-fallback\"><pre>RandomForestClassifier(random_state=20)</pre><b>In a Jupyter environment, please rerun this cell to show the HTML representation or trust the notebook. <br />On GitHub, the HTML representation is unable to render, please try loading this page with nbviewer.org.</b></div><div class=\"sk-container\" hidden><div class=\"sk-item\"><div class=\"sk-estimator sk-toggleable\"><input class=\"sk-toggleable__control sk-hidden--visually\" id=\"sk-estimator-id-22\" type=\"checkbox\" checked><label for=\"sk-estimator-id-22\" class=\"sk-toggleable__label sk-toggleable__label-arrow\">RandomForestClassifier</label><div class=\"sk-toggleable__content\"><pre>RandomForestClassifier(random_state=20)</pre></div></div></div></div></div>"
      ],
      "text/plain": [
       "RandomForestClassifier(random_state=20)"
      ]
     },
     "execution_count": 154,
     "metadata": {},
     "output_type": "execute_result"
    }
   ],
   "source": [
    "rfc.fit(X_train_spam_tfidf,y_train_spam)"
   ]
  },
  {
   "attachments": {},
   "cell_type": "markdown",
   "metadata": {},
   "source": [
    "* mostramos algunas predicciones: "
   ]
  },
  {
   "cell_type": "code",
   "execution_count": 155,
   "metadata": {},
   "outputs": [
    {
     "name": "stdout",
     "output_type": "stream",
     "text": [
      "Predicciones del modelo: ['ham' 'ham' 'ham' 'ham' 'ham' 'ham' 'spam' 'ham' 'ham'] \n",
      "Resultados esperados: ['ham' 'ham' 'ham' 'ham' 'ham' 'ham' 'spam' 'ham' 'ham']\n",
      "\n",
      "Puntuación sobre cjto de entrenamiento: 99.955 %\n",
      "\n",
      "Puntuación sobre cjto de prueba: 98.206 %\n",
      "\n"
     ]
    }
   ],
   "source": [
    "imprime_predicciones(X_train_spam_tfidf,X_test_spam_tfidf,y_train_spam,y_test_spam, clasif=rfc)"
   ]
  },
  {
   "attachments": {},
   "cell_type": "markdown",
   "metadata": {},
   "source": [
    "* Podemos comprobar la matriz de confusión y las métricas, lo que nos confirma que no mucho ha cambiado: "
   ]
  },
  {
   "cell_type": "code",
   "execution_count": 156,
   "metadata": {},
   "outputs": [
    {
     "name": "stdout",
     "output_type": "stream",
     "text": [
      "[[976   3]\n",
      " [ 17 119]] \n",
      "\n",
      "              precision    recall  f1-score   support\n",
      "\n",
      "         ham       0.98      1.00      0.99       979\n",
      "        spam       0.98      0.88      0.92       136\n",
      "\n",
      "    accuracy                           0.98      1115\n",
      "   macro avg       0.98      0.94      0.96      1115\n",
      "weighted avg       0.98      0.98      0.98      1115\n",
      "\n"
     ]
    }
   ],
   "source": [
    "cm = confusion_matrix(y_test_spam, rfc.predict(X_test_spam_tfidf))\n",
    "print(cm,\"\\n\")\n",
    "\n",
    "print(classification_report(y_test_spam, rfc.predict(X_test_spam_tfidf)))"
   ]
  },
  {
   "attachments": {},
   "cell_type": "markdown",
   "metadata": {},
   "source": [
    "Podemos hacer también la clasificación con un `SVC`:"
   ]
  },
  {
   "cell_type": "code",
   "execution_count": 157,
   "metadata": {},
   "outputs": [
    {
     "name": "stdout",
     "output_type": "stream",
     "text": [
      "[[978   1]\n",
      " [ 16 120]]\n",
      "              precision    recall  f1-score   support\n",
      "\n",
      "         ham       0.98      1.00      0.99       979\n",
      "        spam       0.99      0.88      0.93       136\n",
      "\n",
      "    accuracy                           0.98      1115\n",
      "   macro avg       0.99      0.94      0.96      1115\n",
      "weighted avg       0.98      0.98      0.98      1115\n",
      "\n"
     ]
    }
   ],
   "source": [
    "svc.fit(X_train_spam_tfidf,y_train_spam)\n",
    "\n",
    "cm = confusion_matrix(y_test_spam,svc.predict(X_test_spam_tfidf))\n",
    "print(cm)\n",
    "print(classification_report(y_test_spam, svc.predict(X_test_spam_tfidf)))"
   ]
  },
  {
   "attachments": {},
   "cell_type": "markdown",
   "metadata": {},
   "source": [
    "Da resultados muy similares, tambien podemos utilizar las funciones anteriores, cambiando el parámetro clasif:"
   ]
  },
  {
   "cell_type": "code",
   "execution_count": 158,
   "metadata": {},
   "outputs": [
    {
     "name": "stdout",
     "output_type": "stream",
     "text": [
      "Predicciones del modelo: ['ham' 'ham' 'ham' 'ham' 'ham' 'ham' 'spam' 'ham' 'ham'] \n",
      "Resultados esperados: ['ham' 'ham' 'ham' 'ham' 'ham' 'ham' 'spam' 'ham' 'ham']\n",
      "\n",
      "Puntuación sobre cjto de entrenamiento: 99.619 %\n",
      "\n",
      "Puntuación sobre cjto de prueba: 98.475 %\n",
      "\n"
     ]
    }
   ],
   "source": [
    "imprime_predicciones(X_train_spam_tfidf,X_test_spam_tfidf,y_train_spam,y_test_spam, clasif=svc)"
   ]
  },
  {
   "attachments": {},
   "cell_type": "markdown",
   "metadata": {},
   "source": [
    "---\n",
    "## 2. Críticas de cine en IMDB"
   ]
  },
  {
   "cell_type": "markdown",
   "metadata": {},
   "source": [
    "En este apartado, los datos serán críticas de películas en la web IMDB (Internet Movie Database). Aunque ya se ha usado en una práctica de clase, lo describimos ahora brevemente. "
   ]
  },
  {
   "cell_type": "markdown",
   "metadata": {},
   "source": [
    "Son críticas que ya vienen con la etiqueta \"pos\" o \"neg\", de acuerdo a la puntuación que acompaña a la crítica (positiva, 7 o más; negativa 4 o menos). El objetivo es ser capaz de declarar como positiva o negativa una crítica (por supuesto, sin saber la puntuación que la acompaña)."
   ]
  },
  {
   "cell_type": "markdown",
   "metadata": {},
   "source": [
    "Los datos están disponibles en http://ai.stanford.edu/~amaas/data/sentiment/\n",
    "\n",
    "**Importante: Una vez descomprimido, eliminar la carpeta `train/unsup`, que no usaremos.**\n",
    "\n",
    "**Consejo**: puesto que se crean múltiples archivos, se aconseja descomprimirlo en una carpeta que no se sincronice con la nube.  "
   ]
  },
  {
   "cell_type": "markdown",
   "metadata": {},
   "source": [
    "Para cargarlo en sklearn usar la utilidad `load_files`:  "
   ]
  },
  {
   "cell_type": "code",
   "execution_count": null,
   "metadata": {},
   "outputs": [],
   "source": [
    "from sklearn.datasets import load_files\n",
    "\n",
    "reviews_train = load_files(\"data/aclImdb/train/\",encoding='utf-8')\n",
    "text_train, y_train = reviews_train.data, reviews_train.target\n",
    "\n",
    "reviews_test = load_files(\"data/aclImdb/test/\",encoding='utf-8')\n",
    "text_test, y_test = reviews_test.data, reviews_test.target"
   ]
  },
  {
   "cell_type": "markdown",
   "metadata": {},
   "source": [
    "Quitamos algunas marcas en HTML, para \"limpiar\" los textos."
   ]
  },
  {
   "cell_type": "code",
   "execution_count": null,
   "metadata": {},
   "outputs": [],
   "source": [
    "text_train = [doc.replace(b\"<br />\", b\" \") for doc in text_train]\n",
    "text_test = [doc.replace(b\"<br />\", b\" \") for doc in text_test]"
   ]
  },
  {
   "cell_type": "markdown",
   "metadata": {},
   "source": [
    "Para poder aplicar los clasificadores de Scikit Learn, hemos de vectorizar los textos. En scikitlearn se pueden elegir varias formas de vectorizar:\n",
    "\n",
    "* **CountVectorizer**, modo binario (sólo se anota si un término ocurre o no)\n",
    "* **CountVectorizer**, contando ocurrencias\n",
    "* **TfIdfVectorizer**, vectorizando con TfIdf\n",
    "\n",
    "El uso de estos vectorizadores se puede comprender a partir de lo visto en el tema de Procesamiento de Lenguaje Natural, y del manual de Scikit Learn. En particular **es importante el uso de los parámetros stop_words y min_df** para simplificar a vectorización. Una vez entendido y explorado su uso, elegir la mejor combinación de vectorizador y de clasificador, para este conjunto de datos. \n",
    "\n",
    "También mostrar la predicción que se realiza sobre algunas críticas concretas del conjunto de test. "
   ]
  },
  {
   "cell_type": "markdown",
   "metadata": {},
   "source": [
    "## 3. Un tercer conjunto de datos adicional"
   ]
  },
  {
   "cell_type": "markdown",
   "metadata": {},
   "source": [
    "Este apartado es opcional, y se podría hacer en lugar de uno de los dos apartados anteriores\n",
    "\n",
    "Se pide estudiar un tercer conjunto de datos (clasificación o regresión), obtenido a partir de algún repositorio. Por ejemplo, uno muy popular es el de UCI: https://archive.ics.uci.edu/ml/index.php\n",
    "\n",
    "Damos un par de sugerencias, pero solo a título orientativo:\n",
    "\n",
    "* Conjunto de datos de dermatología: https://archive.ics.uci.edu/ml/datasets/dermatology (problema de clasificación)\n",
    "* Calidad de vino: https://archive.ics.uci.edu/ml/datasets/wine+quality (regresión, y por tanto habría que usar las correspondientes versiones de regresión de los modelos) \n",
    "\n",
    "Nótese que en este caso, esto implicaría previamente cargar de manera adecuada los datos (posiblemente con algún preprocesado)."
   ]
  }
 ],
 "metadata": {
  "kernelspec": {
   "display_name": "Python 3",
   "language": "python",
   "name": "python3"
  },
  "language_info": {
   "codemirror_mode": {
    "name": "ipython",
    "version": 3
   },
   "file_extension": ".py",
   "mimetype": "text/x-python",
   "name": "python",
   "nbconvert_exporter": "python",
   "pygments_lexer": "ipython3",
   "version": "3.9.2"
  },
  "vscode": {
   "interpreter": {
    "hash": "e7370f93d1d0cde622a1f8e1c04877d8463912d04d973331ad4851f04de6915a"
   }
  }
 },
 "nbformat": 4,
 "nbformat_minor": 2
}
